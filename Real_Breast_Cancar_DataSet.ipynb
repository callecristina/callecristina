{
  "nbformat": 4,
  "nbformat_minor": 0,
  "metadata": {
    "colab": {
      "name": "Real Breast Cancar DataSet.ipynb",
      "provenance": [],
      "authorship_tag": "ABX9TyO6tVTBRvJIuFmVg1Gk9GW2"
    },
    "kernelspec": {
      "name": "python3",
      "display_name": "Python 3"
    },
    "language_info": {
      "name": "python"
    }
  },
  "cells": [
    {
      "cell_type": "code",
      "metadata": {
        "id": "QTn8u5w9imh7"
      },
      "source": [
        "#importación de la base de datos\n",
        "import pandas as pd\n",
        "df=pd.read_csv(\"BRCA.csv\", \",\")\n",
        "#Se eliminan las variables tipo fecha\n",
        "df=df.drop([\"Date_of_Surgery\", \"Date_of_Last_Visit\"], axis=1)\n",
        "#Se eliminan las observaciones nulas en cualquier columna\n",
        "df = df.dropna()\n",
        "df.head()"
      ],
      "execution_count": null,
      "outputs": []
    },
    {
      "cell_type": "code",
      "metadata": {
        "colab": {
          "base_uri": "https://localhost:8080/"
        },
        "id": "Pe1YBChdmz_B",
        "outputId": "e0342d1f-aef4-4712-f3cf-68619bf61946"
      },
      "source": [
        "df.shape"
      ],
      "execution_count": 256,
      "outputs": [
        {
          "output_type": "execute_result",
          "data": {
            "text/plain": [
              "(321, 14)"
            ]
          },
          "metadata": {},
          "execution_count": 256
        }
      ]
    },
    {
      "cell_type": "markdown",
      "metadata": {
        "id": "qJEF7qT7oFUI"
      },
      "source": [
        "Una base de datos sobre el pacientes con cancer de mama que han sido sometidos a una cirugía. Se eliminan las variable tipo fecha y se dejan 5 variables continuas y siete variables categoricas, más una variable objetivo también categorica"
      ]
    },
    {
      "cell_type": "code",
      "metadata": {
        "id": "4lEFnZzBAutJ"
      },
      "source": [
        "#Se eliminan los datos categoricos\n",
        "df=df.drop([\"Patient_ID\", \"Gender\", \"Tumour_Stage\",\"Histology\", \"ER status\", \"PR status\",\"HER2 status\", \"Surgery_type\"], axis=1)"
      ],
      "execution_count": 257,
      "outputs": []
    },
    {
      "cell_type": "code",
      "metadata": {
        "id": "zqQgFgpfoknA"
      },
      "source": [
        "df.describe()"
      ],
      "execution_count": null,
      "outputs": []
    },
    {
      "cell_type": "code",
      "metadata": {
        "id": "cy25AGrPoyT6"
      },
      "source": [
        "#Histograma de las variables continuas\n",
        "df.Age.hist()"
      ],
      "execution_count": null,
      "outputs": []
    },
    {
      "cell_type": "code",
      "metadata": {
        "id": "OtMcU--So-aX"
      },
      "source": [
        "df.Protein1.hist()"
      ],
      "execution_count": null,
      "outputs": []
    },
    {
      "cell_type": "code",
      "metadata": {
        "id": "0xeqUiXspOgg"
      },
      "source": [
        "df.Protein2.hist()"
      ],
      "execution_count": null,
      "outputs": []
    },
    {
      "cell_type": "code",
      "metadata": {
        "id": "fi1KJh6ipYYg"
      },
      "source": [
        "df.Protein3.hist()"
      ],
      "execution_count": null,
      "outputs": []
    },
    {
      "cell_type": "code",
      "metadata": {
        "id": "7FyB4OsspfNW"
      },
      "source": [
        "df.Protein4.hist()"
      ],
      "execution_count": null,
      "outputs": []
    },
    {
      "cell_type": "markdown",
      "metadata": {
        "id": "zOiOz_q9suIA"
      },
      "source": [
        "Como se ve la muestra los factores de crecimiento del tumor (PR y RR), no generan información adiconal para el pronosticos entonces se eliminan "
      ]
    },
    {
      "cell_type": "code",
      "metadata": {
        "id": "0dlsRNk59qDh"
      },
      "source": [
        "#Definición de la x\n",
        "x=df.drop([\"Patient_Status\"], axis=1)"
      ],
      "execution_count": 264,
      "outputs": []
    },
    {
      "cell_type": "code",
      "metadata": {
        "id": "-XEHnSAw-bAb"
      },
      "source": [
        "#Definicion de y\n",
        "y=df[\"Patient_Status\"]"
      ],
      "execution_count": 265,
      "outputs": []
    },
    {
      "cell_type": "code",
      "metadata": {
        "id": "rWQsULR5-hdk"
      },
      "source": [
        "#Separa la base de datos, 70% par el entrenamiento 30% para testeo\n",
        "from sklearn.model_selection import train_test_split\n",
        "xEntreno, xTest, yEntreno, yTest = train_test_split(x, y, test_size=0.3, random_state=0,shuffle=True)\n",
        "#xEntreno la matriz de atributos de entrenamiento\n",
        "#yEntreno la clase de entrenamiento\n",
        "#xTest la matirz de atributos de testeo\n",
        "#yTest la clase de testeo"
      ],
      "execution_count": 266,
      "outputs": []
    },
    {
      "cell_type": "markdown",
      "metadata": {
        "id": "H6LZUdq9-yLy"
      },
      "source": [
        "K-Nearest Neighbor"
      ]
    },
    {
      "cell_type": "code",
      "metadata": {
        "id": "27W5AYge_BOh"
      },
      "source": [
        "from sklearn.preprocessing import MinMaxScaler\n",
        "scaler = MinMaxScaler()\n",
        "xEntreno = scaler.fit_transform(xEntreno)\n",
        "xTest = scaler.transform(xTest)\n",
        "#Se genera una escala entre 0 y 10 para homogenizar las caracteristicas"
      ],
      "execution_count": 272,
      "outputs": []
    },
    {
      "cell_type": "code",
      "metadata": {
        "colab": {
          "base_uri": "https://localhost:8080/"
        },
        "id": "X3AqaoupEdMz",
        "outputId": "bc545529-18fa-49ca-86f1-d165062ae173"
      },
      "source": [
        "from sklearn.neighbors import KNeighborsClassifier\n",
        "nvecinos=3 #Se toma a priori 3 vecinos\n",
        "KNN = KNeighborsClassifier(nvecinos)\n",
        "KNN.fit(xEntreno,yEntreno)\n",
        "print('la precisión de la clasificacion KNN en el conjunto de entrenamiento: {:.2f}'.format(KNN.score(xEntreno, yEntreno)))\n",
        "print('la precisión de la clasificacion KNN en conjunto de testeo: {:.2f}'.format(KNN.score(xTest, yTest)))"
      ],
      "execution_count": 268,
      "outputs": [
        {
          "output_type": "stream",
          "name": "stdout",
          "text": [
            "la precisión de la clasificacion KNN en el conjunto de entrenamiento: 0.81\n",
            "la precisión de la clasificacion KNN en conjunto de testeo: 0.67\n"
          ]
        }
      ]
    },
    {
      "cell_type": "code",
      "metadata": {
        "id": "-w_LPlbDE3mJ"
      },
      "source": [
        "#Predicción\n",
        "yhat=KNN.predict(xTest)"
      ],
      "execution_count": 273,
      "outputs": []
    },
    {
      "cell_type": "code",
      "metadata": {
        "id": "_ce3asSvFqY0"
      },
      "source": [
        "#Probabilidad de yhat\n",
        "print(KNN.predict_proba(xTest))"
      ],
      "execution_count": null,
      "outputs": []
    },
    {
      "cell_type": "code",
      "metadata": {
        "colab": {
          "base_uri": "https://localhost:8080/"
        },
        "id": "2U1Ylw9TE_ng",
        "outputId": "1d4eaaf0-a2c1-437f-9e79-6af16dcec74f"
      },
      "source": [
        "#Los indicadores de presición\n",
        "from sklearn.metrics import classification_report\n",
        "from sklearn.metrics import confusion_matrix\n",
        "print(confusion_matrix(yTest, yhat))\n",
        "print(classification_report(yTest, yhat))"
      ],
      "execution_count": 276,
      "outputs": [
        {
          "output_type": "stream",
          "name": "stdout",
          "text": [
            "[[65 15]\n",
            " [17  0]]\n",
            "              precision    recall  f1-score   support\n",
            "\n",
            "       Alive       0.79      0.81      0.80        80\n",
            "        Dead       0.00      0.00      0.00        17\n",
            "\n",
            "    accuracy                           0.67        97\n",
            "   macro avg       0.40      0.41      0.40        97\n",
            "weighted avg       0.65      0.67      0.66        97\n",
            "\n"
          ]
        }
      ]
    },
    {
      "cell_type": "code",
      "metadata": {
        "id": "hXuglycdGIJS"
      },
      "source": [
        "#Relacion entre el numero de vecinos y la presicion\n",
        "import matplotlib.pyplot as plt\n",
        "from matplotlib.colors import ListedColormap\n",
        "import matplotlib.patches as mpatche\n",
        "vecinos=range(1,20)\n",
        "puntaje=[]\n",
        "for j in vecinos:\n",
        "  KNN=KNeighborsClassifier(n_neighbors = j)\n",
        "  KNN.fit(xEntreno, yEntreno)\n",
        "  puntaje.append(KNN.score(xTest, yTest))\n",
        "plt.figure()\n",
        "plt.xlabel(\"vecinos\")\n",
        "plt.ylabel(\"presición\")\n",
        "plt.scatter(vecinos,puntaje)"
      ],
      "execution_count": null,
      "outputs": []
    },
    {
      "cell_type": "code",
      "metadata": {
        "id": "Nc_KN-UVGjbd"
      },
      "source": [
        "#Determinar el numero optimo de vecinos\n",
        "from sklearn.model_selection import GridSearchCV\n",
        "parametros = {\"n_neighbors\": range(1, 30)}\n",
        "gr= GridSearchCV(KNN, parametros)\n",
        "gr.fit(xEntreno, yEntreno)"
      ],
      "execution_count": null,
      "outputs": []
    },
    {
      "cell_type": "code",
      "metadata": {
        "colab": {
          "base_uri": "https://localhost:8080/"
        },
        "id": "Q8FeXfxvHotx",
        "outputId": "446086cb-1ec9-4bba-da5f-3f8756e37137"
      },
      "source": [
        "gr.best_params_"
      ],
      "execution_count": 279,
      "outputs": [
        {
          "output_type": "execute_result",
          "data": {
            "text/plain": [
              "{'n_neighbors': 10}"
            ]
          },
          "metadata": {},
          "execution_count": 279
        }
      ]
    },
    {
      "cell_type": "code",
      "metadata": {
        "colab": {
          "base_uri": "https://localhost:8080/"
        },
        "id": "Kspv1Lb1IjXt",
        "outputId": "0212484c-bd23-4733-f872-319a763241a6"
      },
      "source": [
        "#Se repite el proceso con 10 vecinos\n",
        "nvecinos=10\n",
        "KNN2 = KNeighborsClassifier(nvecinos)\n",
        "KNN2.fit(xEntreno,yEntreno)\n",
        "print('la precisión de la clasificacion KNN en el conjunto de entrenamiento: {:.2f}'\n",
        "     .format(KNN2.score(xEntreno, yEntreno)))\n",
        "print('la precisión de la clasificacion KNN en conjunto de testeo: {:.2f}'\n",
        "     .format(KNN2.score(xTest, yTest)))"
      ],
      "execution_count": 280,
      "outputs": [
        {
          "output_type": "stream",
          "name": "stdout",
          "text": [
            "la precisión de la clasificacion KNN en el conjunto de entrenamiento: 0.77\n",
            "la precisión de la clasificacion KNN en conjunto de testeo: 0.84\n"
          ]
        }
      ]
    },
    {
      "cell_type": "code",
      "metadata": {
        "id": "XOQ1Bt3AJkqY"
      },
      "source": [
        "#Predicción y probabilidae\n",
        "yhat2=KNN2.predict(xTest)\n",
        "print(KNN2.predict_proba(xTest))"
      ],
      "execution_count": null,
      "outputs": []
    },
    {
      "cell_type": "code",
      "metadata": {
        "colab": {
          "base_uri": "https://localhost:8080/"
        },
        "id": "3j01PsOfJb_m",
        "outputId": "cb92a01a-a8d9-4aaf-a4e1-b2a3cc64b637"
      },
      "source": [
        "#Matriz de confusión e indicadores de precision\n",
        "print(confusion_matrix(yTest, yhat2))\n",
        "print(classification_report(yTest, yhat2))"
      ],
      "execution_count": 282,
      "outputs": [
        {
          "output_type": "stream",
          "name": "stdout",
          "text": [
            "[[80  0]\n",
            " [16  1]]\n",
            "              precision    recall  f1-score   support\n",
            "\n",
            "       Alive       0.83      1.00      0.91        80\n",
            "        Dead       1.00      0.06      0.11        17\n",
            "\n",
            "    accuracy                           0.84        97\n",
            "   macro avg       0.92      0.53      0.51        97\n",
            "weighted avg       0.86      0.84      0.77        97\n",
            "\n"
          ]
        }
      ]
    },
    {
      "cell_type": "code",
      "metadata": {
        "colab": {
          "base_uri": "https://localhost:8080/"
        },
        "id": "8RuV2EjTMQc5",
        "outputId": "dc3aa13c-2cc7-4204-9e2b-ffd6c1af9a3c"
      },
      "source": [
        "KNN3 = KNeighborsClassifier(n_neighbors= 10, weights=\"distance\")\n",
        "KNN3.fit(xEntreno,yEntreno)\n",
        "print('la precisión de la clasificacion KNN3 en el conjunto de entrenamiento: {:.2f}'.format(KNN3.score(xEntreno, yEntreno)))\n",
        "print('la precisión de la clasificacion KNN3 en conjunto de testeo: {:.2f}'.format(KNN3.score(xTest, yTest)))"
      ],
      "execution_count": 283,
      "outputs": [
        {
          "output_type": "stream",
          "name": "stdout",
          "text": [
            "la precisión de la clasificacion KNN3 en el conjunto de entrenamiento: 1.00\n",
            "la precisión de la clasificacion KNN3 en conjunto de testeo: 0.82\n"
          ]
        }
      ]
    },
    {
      "cell_type": "code",
      "metadata": {
        "id": "sSmS9OyOM_k2"
      },
      "source": [
        "#Predicción y probabilidae\n",
        "yhat3=KNN3.predict(xTest)\n",
        "print(KNN3.predict_proba(xTest))"
      ],
      "execution_count": null,
      "outputs": []
    },
    {
      "cell_type": "code",
      "metadata": {
        "colab": {
          "base_uri": "https://localhost:8080/"
        },
        "id": "9C2mCoy2N6bF",
        "outputId": "e5742ff0-b29c-4e97-e39d-83163ac9a23d"
      },
      "source": [
        "print(confusion_matrix(yTest, yhat3))\n",
        "print(classification_report(yTest, yhat3))"
      ],
      "execution_count": 285,
      "outputs": [
        {
          "output_type": "stream",
          "name": "stdout",
          "text": [
            "[[79  1]\n",
            " [16  1]]\n",
            "              precision    recall  f1-score   support\n",
            "\n",
            "       Alive       0.83      0.99      0.90        80\n",
            "        Dead       0.50      0.06      0.11        17\n",
            "\n",
            "    accuracy                           0.82        97\n",
            "   macro avg       0.67      0.52      0.50        97\n",
            "weighted avg       0.77      0.82      0.76        97\n",
            "\n"
          ]
        }
      ]
    },
    {
      "cell_type": "markdown",
      "metadata": {
        "id": "tFtXaDjkVoWH"
      },
      "source": [
        "Random Forest"
      ]
    },
    {
      "cell_type": "code",
      "metadata": {
        "colab": {
          "base_uri": "https://localhost:8080/"
        },
        "id": "2g_ITkryVbdU",
        "outputId": "ea282fd0-4163-4ffd-997d-65c8fc9b6e52"
      },
      "source": [
        "from sklearn.ensemble import RandomForestClassifier\n",
        "#Se realiza la clasificación con 100 estimaciones\n",
        "RFC = RandomForestClassifier(n_estimators=100, random_state=0)\n",
        "RFC.fit(xEntreno,yEntreno)\n",
        "print('la precisión de la clasificacion RFC en el conjunto de entrenamiento: {:.2f}'.format(RFC.score(xEntreno, yEntreno)))\n",
        "print('la precisión de la clasificacion RFC en conjunto de testeo: {:.2f}'.format(RFC.score(xTest, yTest)))"
      ],
      "execution_count": 308,
      "outputs": [
        {
          "output_type": "stream",
          "name": "stdout",
          "text": [
            "la precisión de la clasificacion RFC en el conjunto de entrenamiento: 1.00\n",
            "la precisión de la clasificacion RFC en conjunto de testeo: 0.79\n"
          ]
        }
      ]
    },
    {
      "cell_type": "code",
      "metadata": {
        "id": "Xa7pkuzsWEvo"
      },
      "source": [
        "#predicción\n",
        "yhat4=RFC.predict(xTest)"
      ],
      "execution_count": 309,
      "outputs": []
    },
    {
      "cell_type": "code",
      "metadata": {
        "id": "9u7-EFQXWHRZ"
      },
      "source": [
        "#probabilidad\n",
        "print(RFC.predict_proba(xTest))"
      ],
      "execution_count": null,
      "outputs": []
    },
    {
      "cell_type": "code",
      "metadata": {
        "colab": {
          "base_uri": "https://localhost:8080/"
        },
        "id": "vJHcsjUCWPE6",
        "outputId": "e28fe15d-b02e-4dfa-8864-b29aa6ad2896"
      },
      "source": [
        "#Matriz de confusión e indicadores de precisión\n",
        "print(confusion_matrix(yTest, yhat4))\n",
        "print(classification_report(yTest, yhat4))"
      ],
      "execution_count": 311,
      "outputs": [
        {
          "output_type": "stream",
          "name": "stdout",
          "text": [
            "[[77  3]\n",
            " [17  0]]\n",
            "              precision    recall  f1-score   support\n",
            "\n",
            "       Alive       0.82      0.96      0.89        80\n",
            "        Dead       0.00      0.00      0.00        17\n",
            "\n",
            "    accuracy                           0.79        97\n",
            "   macro avg       0.41      0.48      0.44        97\n",
            "weighted avg       0.68      0.79      0.73        97\n",
            "\n"
          ]
        }
      ]
    },
    {
      "cell_type": "code",
      "metadata": {
        "colab": {
          "base_uri": "https://localhost:8080/",
          "height": 297
        },
        "id": "lgqinOaBWcn6",
        "outputId": "327dce14-d202-4342-e8e1-08f94e50a8dc"
      },
      "source": [
        "#Relacion entre la precisión y el numero de estimaciones\n",
        "nestimaciones=range(1,1000,100)\n",
        "puntajeRFC=[]\n",
        "for j in nestimaciones:\n",
        "  RFC=RandomForestClassifier(n_estimators=j,random_state=0)\n",
        "  RFC.fit(xEntreno, yEntreno)\n",
        "  puntajeRFC.append(RFC.score(xTest, yTest))\n",
        "plt.figure()\n",
        "plt.xlabel(\"estimaciones\")\n",
        "plt.ylabel(\"presición\")\n",
        "plt.scatter(nestimaciones,puntajeRFC)"
      ],
      "execution_count": 313,
      "outputs": [
        {
          "output_type": "execute_result",
          "data": {
            "text/plain": [
              "<matplotlib.collections.PathCollection at 0x7f4407a5d250>"
            ]
          },
          "metadata": {},
          "execution_count": 313
        },
        {
          "output_type": "display_data",
          "data": {
            "image/png": "[encoded data removed]",
            "text/plain": [
              "<Figure size 432x288 with 1 Axes>"
            ]
          },
          "metadata": {
            "needs_background": "light"
          }
        }
      ]
    },
    {
      "cell_type": "code",
      "metadata": {
        "colab": {
          "base_uri": "https://localhost:8080/"
        },
        "id": "FAmZmlOUb-y8",
        "outputId": "892d019e-9230-4446-d640-65c65aaf52c4"
      },
      "source": [
        "#Determinar el numero optimo de estimacione\n",
        "from sklearn.model_selection import GridSearchCV\n",
        "parametros = {\"n_estimators\": range(1, 1000,100)}\n",
        "gr= GridSearchCV(RFC, parametros)\n",
        "gr.fit(xEntreno, yEntreno)"
      ],
      "execution_count": 314,
      "outputs": [
        {
          "output_type": "execute_result",
          "data": {
            "text/plain": [
              "GridSearchCV(cv=None, error_score=nan,\n",
              "             estimator=RandomForestClassifier(bootstrap=True, ccp_alpha=0.0,\n",
              "                                              class_weight=None,\n",
              "                                              criterion='gini', max_depth=None,\n",
              "                                              max_features='auto',\n",
              "                                              max_leaf_nodes=None,\n",
              "                                              max_samples=None,\n",
              "                                              min_impurity_decrease=0.0,\n",
              "                                              min_impurity_split=None,\n",
              "                                              min_samples_leaf=1,\n",
              "                                              min_samples_split=2,\n",
              "                                              min_weight_fraction_leaf=0.0,\n",
              "                                              n_estimators=901, n_jobs=None,\n",
              "                                              oob_score=False, random_state=0,\n",
              "                                              verbose=0, warm_start=False),\n",
              "             iid='deprecated', n_jobs=None,\n",
              "             param_grid={'n_estimators': range(1, 1000, 100)},\n",
              "             pre_dispatch='2*n_jobs', refit=True, return_train_score=False,\n",
              "             scoring=None, verbose=0)"
            ]
          },
          "metadata": {},
          "execution_count": 314
        }
      ]
    },
    {
      "cell_type": "code",
      "metadata": {
        "colab": {
          "base_uri": "https://localhost:8080/"
        },
        "id": "TepoGjrKchOT",
        "outputId": "4837dc49-7d4d-480f-cdbf-28b15b251c61"
      },
      "source": [
        "gr.best_params_"
      ],
      "execution_count": 315,
      "outputs": [
        {
          "output_type": "execute_result",
          "data": {
            "text/plain": [
              "{'n_estimators': 801}"
            ]
          },
          "metadata": {},
          "execution_count": 315
        }
      ]
    },
    {
      "cell_type": "code",
      "metadata": {
        "colab": {
          "base_uri": "https://localhost:8080/"
        },
        "id": "VH3W3X0leCeb",
        "outputId": "22c01af4-0e68-4de7-f033-6ad97d9af797"
      },
      "source": [
        "#Se realiza la clasificación con 100 estimaciones\n",
        "RFC2 = RandomForestClassifier(n_estimators=801, random_state=0)\n",
        "RFC2.fit(xEntreno,yEntreno)\n",
        "print('la precisión de la clasificacion RFC2 en el conjunto de entrenamiento: {:.2f}'.format(RFC2.score(xEntreno, yEntreno)))\n",
        "print('la precisión de la clasificacion RFC2 en conjunto de testeo: {:.2f}'.format(RFC2.score(xTest, yTest)))"
      ],
      "execution_count": 317,
      "outputs": [
        {
          "output_type": "stream",
          "name": "stdout",
          "text": [
            "la precisión de la clasificacion RFC2 en el conjunto de entrenamiento: 1.00\n",
            "la precisión de la clasificacion RFC2 en conjunto de testeo: 0.80\n"
          ]
        }
      ]
    },
    {
      "cell_type": "code",
      "metadata": {
        "colab": {
          "base_uri": "https://localhost:8080/"
        },
        "id": "5nTu6baUeM4e",
        "outputId": "86808dda-9fcf-44c3-af58-e62d65e4f679"
      },
      "source": [
        "yhat5=RFC2.predict(xTest)\n",
        "print(RFC.predict_proba(xTest))"
      ],
      "execution_count": 320,
      "outputs": [
        {
          "output_type": "stream",
          "name": "stdout",
          "text": [
            "[[0.48938826 0.51061174]\n",
            " [0.73033708 0.26966292]\n",
            " [0.82646692 0.17353308]\n",
            " [0.62546816 0.37453184]\n",
            " [0.79151061 0.20848939]\n",
            " [0.74656679 0.25343321]\n",
            " [0.9051186  0.0948814 ]\n",
            " [0.74032459 0.25967541]\n",
            " [0.79275905 0.20724095]\n",
            " [0.7752809  0.2247191 ]\n",
            " [0.60799001 0.39200999]\n",
            " [0.91385768 0.08614232]\n",
            " [0.60299625 0.39700375]\n",
            " [0.84893883 0.15106117]\n",
            " [0.88014981 0.11985019]\n",
            " [0.56679151 0.43320849]\n",
            " [0.63670412 0.36329588]\n",
            " [0.82771536 0.17228464]\n",
            " [0.7752809  0.2247191 ]\n",
            " [0.80399501 0.19600499]\n",
            " [0.91385768 0.08614232]\n",
            " [0.91885144 0.08114856]\n",
            " [0.80898876 0.19101124]\n",
            " [0.88389513 0.11610487]\n",
            " [0.7340824  0.2659176 ]\n",
            " [0.57178527 0.42821473]\n",
            " [0.91510612 0.08489388]\n",
            " [0.83770287 0.16229713]\n",
            " [0.84019975 0.15980025]\n",
            " [0.71410737 0.28589263]\n",
            " [0.97003745 0.02996255]\n",
            " [0.80524345 0.19475655]\n",
            " [0.67290886 0.32709114]\n",
            " [0.64669164 0.35330836]\n",
            " [0.87640449 0.12359551]\n",
            " [0.82771536 0.17228464]\n",
            " [0.88888889 0.11111111]\n",
            " [0.51685393 0.48314607]\n",
            " [0.86641698 0.13358302]\n",
            " [0.86766542 0.13233458]\n",
            " [0.8227216  0.1772784 ]\n",
            " [0.87515605 0.12484395]\n",
            " [0.75905119 0.24094881]\n",
            " [0.81148564 0.18851436]\n",
            " [0.71660424 0.28339576]\n",
            " [0.70162297 0.29837703]\n",
            " [0.91260924 0.08739076]\n",
            " [0.77278402 0.22721598]\n",
            " [0.81398252 0.18601748]\n",
            " [0.84394507 0.15605493]\n",
            " [0.91260924 0.08739076]\n",
            " [0.77777778 0.22222222]\n",
            " [0.67790262 0.32209738]\n",
            " [0.48439451 0.51560549]\n",
            " [0.75156055 0.24843945]\n",
            " [0.71910112 0.28089888]\n",
            " [0.73907615 0.26092385]\n",
            " [0.90886392 0.09113608]\n",
            " [0.69038702 0.30961298]\n",
            " [0.62796504 0.37203496]\n",
            " [0.62172285 0.37827715]\n",
            " [0.78277154 0.21722846]\n",
            " [0.81772784 0.18227216]\n",
            " [0.83270911 0.16729089]\n",
            " [0.50686642 0.49313358]\n",
            " [0.9051186  0.0948814 ]\n",
            " [0.69662921 0.30337079]\n",
            " [0.89637953 0.10362047]\n",
            " [0.721598   0.278402  ]\n",
            " [0.7627965  0.2372035 ]\n",
            " [0.75405743 0.24594257]\n",
            " [0.89637953 0.10362047]\n",
            " [0.74906367 0.25093633]\n",
            " [0.721598   0.278402  ]\n",
            " [0.84269663 0.15730337]\n",
            " [0.72659176 0.27340824]\n",
            " [0.58302122 0.41697878]\n",
            " [0.64669164 0.35330836]\n",
            " [0.78277154 0.21722846]\n",
            " [0.73657928 0.26342072]\n",
            " [0.72284644 0.27715356]\n",
            " [0.76779026 0.23220974]\n",
            " [0.66666667 0.33333333]\n",
            " [0.8164794  0.1835206 ]\n",
            " [0.57303371 0.42696629]\n",
            " [0.83770287 0.16229713]\n",
            " [0.83270911 0.16729089]\n",
            " [0.77902622 0.22097378]\n",
            " [0.75530587 0.24469413]\n",
            " [0.66167291 0.33832709]\n",
            " [0.63046192 0.36953808]\n",
            " [0.77652934 0.22347066]\n",
            " [0.77403246 0.22596754]\n",
            " [0.73283396 0.26716604]\n",
            " [0.53308365 0.46691635]\n",
            " [0.68414482 0.31585518]\n",
            " [0.72409488 0.27590512]]\n"
          ]
        }
      ]
    },
    {
      "cell_type": "code",
      "metadata": {
        "colab": {
          "base_uri": "https://localhost:8080/"
        },
        "id": "c5NgGv1-gDTq",
        "outputId": "b15212b2-efbb-4684-e301-ac2f758c803a"
      },
      "source": [
        "print(confusion_matrix(yTest, yhat4))\n",
        "print(classification_report(yTest, yhat4))"
      ],
      "execution_count": 321,
      "outputs": [
        {
          "output_type": "stream",
          "name": "stdout",
          "text": [
            "[[77  3]\n",
            " [17  0]]\n",
            "              precision    recall  f1-score   support\n",
            "\n",
            "       Alive       0.82      0.96      0.89        80\n",
            "        Dead       0.00      0.00      0.00        17\n",
            "\n",
            "    accuracy                           0.79        97\n",
            "   macro avg       0.41      0.48      0.44        97\n",
            "weighted avg       0.68      0.79      0.73        97\n",
            "\n"
          ]
        }
      ]
    },
    {
      "cell_type": "code",
      "metadata": {
        "id": "o5UWYEmhgDRn"
      },
      "source": [
        ""
      ],
      "execution_count": null,
      "outputs": []
    }
  ]
}