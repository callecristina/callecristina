{
  "nbformat": 4,
  "nbformat_minor": 0,
  "metadata": {
    "colab": {
      "name": "Sinistros y Compras.ipynb",
      "provenance": [],
      "authorship_tag": "ABX9TyMkjhNv//XnkkMpOoHV7R0f",
      "include_colab_link": true
    },
    "kernelspec": {
      "name": "python3",
      "display_name": "Python 3"
    },
    "language_info": {
      "name": "python"
    }
  },
  "cells": [
    {
      "cell_type": "markdown",
      "metadata": {
        "id": "view-in-github",
        "colab_type": "text"
      },
      "source": [
        "<a href=\"https://colab.research.google.com/github/callecristina/callecristina/blob/main/Sinistros_y_Compras.ipynb\" target=\"_parent\"><img src=\"https://colab.research.google.com/assets/colab-badge.svg\" alt=\"Open In Colab\"/></a>"
      ]
    },
    {
      "cell_type": "code",
      "metadata": {
        "id": "ZV5SzktPrkN9"
      },
      "source": [
        "#importaciones\n",
        "import numpy as np\n",
        "import matplotlib.pyplot as plt"
      ],
      "execution_count": 58,
      "outputs": []
    },
    {
      "cell_type": "code",
      "metadata": {
        "id": "phS0Cvvjh-7O"
      },
      "source": [
        "import pandas as pd\n",
        "df=pd.read_excel(\"SYC.xlsx\")"
      ],
      "execution_count": 3,
      "outputs": []
    },
    {
      "cell_type": "code",
      "metadata": {
        "colab": {
          "base_uri": "https://localhost:8080/",
          "height": 417
        },
        "id": "4bcfFaWOinW4",
        "outputId": "1873b5e2-1e97-4c40-a853-a2d29a6a37b3"
      },
      "source": [
        "df.head()"
      ],
      "execution_count": 14,
      "outputs": [
        {
          "output_type": "execute_result",
          "data": {
            "text/html": [
              "<div>\n",
              "<style scoped>\n",
              "    .dataframe tbody tr th:only-of-type {\n",
              "        vertical-align: middle;\n",
              "    }\n",
              "\n",
              "    .dataframe tbody tr th {\n",
              "        vertical-align: top;\n",
              "    }\n",
              "\n",
              "    .dataframe thead th {\n",
              "        text-align: right;\n",
              "    }\n",
              "</style>\n",
              "<table border=\"1\" class=\"dataframe\">\n",
              "  <thead>\n",
              "    <tr style=\"text-align: right;\">\n",
              "      <th></th>\n",
              "      <th>Fecha</th>\n",
              "      <th>Mes</th>\n",
              "      <th>Aviso</th>\n",
              "      <th>Cobertura</th>\n",
              "      <th>TipoVehiculo</th>\n",
              "      <th>Ciudad</th>\n",
              "      <th>ClasificacionVehiculo</th>\n",
              "      <th>Marca</th>\n",
              "      <th>Linea</th>\n",
              "      <th>Version</th>\n",
              "      <th>Modelo</th>\n",
              "      <th>DiasReparacion</th>\n",
              "      <th>ValNetoManoObra</th>\n",
              "      <th>ValNetoReparacionesExternas</th>\n",
              "      <th>ValNetoRepuestos</th>\n",
              "      <th>ValNetoInsumos</th>\n",
              "      <th>CostoReparación</th>\n",
              "      <th>TipoGolpe</th>\n",
              "    </tr>\n",
              "  </thead>\n",
              "  <tbody>\n",
              "    <tr>\n",
              "      <th>0</th>\n",
              "      <td>01/2017</td>\n",
              "      <td>1</td>\n",
              "      <td>455439</td>\n",
              "      <td>PPD</td>\n",
              "      <td>LIVIANO</td>\n",
              "      <td>MEDELLIN</td>\n",
              "      <td>AUTOMOVIL</td>\n",
              "      <td>FORD</td>\n",
              "      <td>FIESTA [7]</td>\n",
              "      <td>SPORTBACK SE MT 1600CC 4P</td>\n",
              "      <td>2015.0</td>\n",
              "      <td>7</td>\n",
              "      <td>1231850</td>\n",
              "      <td>0</td>\n",
              "      <td>2429782</td>\n",
              "      <td>0</td>\n",
              "      <td>3661632</td>\n",
              "      <td>FUERTE</td>\n",
              "    </tr>\n",
              "    <tr>\n",
              "      <th>1</th>\n",
              "      <td>01/2017</td>\n",
              "      <td>1</td>\n",
              "      <td>455440</td>\n",
              "      <td>PPD</td>\n",
              "      <td>LIVIANO</td>\n",
              "      <td>CALI</td>\n",
              "      <td>AUTOMOVIL</td>\n",
              "      <td>CHEVROLET</td>\n",
              "      <td>AVEO EMOTION</td>\n",
              "      <td>1.6L MT 1600CC AA 2AB ABS</td>\n",
              "      <td>2010.0</td>\n",
              "      <td>4</td>\n",
              "      <td>0</td>\n",
              "      <td>0</td>\n",
              "      <td>0</td>\n",
              "      <td>0</td>\n",
              "      <td>0</td>\n",
              "      <td>LEVE</td>\n",
              "    </tr>\n",
              "    <tr>\n",
              "      <th>2</th>\n",
              "      <td>01/2017</td>\n",
              "      <td>1</td>\n",
              "      <td>455441</td>\n",
              "      <td>PPD</td>\n",
              "      <td>LIVIANO</td>\n",
              "      <td>MEDELLIN</td>\n",
              "      <td>AUTOMOVIL</td>\n",
              "      <td>MAZDA</td>\n",
              "      <td>2</td>\n",
              "      <td>TOURING MT 1500CC 2AB</td>\n",
              "      <td>2016.0</td>\n",
              "      <td>4</td>\n",
              "      <td>627257</td>\n",
              "      <td>0</td>\n",
              "      <td>1540881</td>\n",
              "      <td>0</td>\n",
              "      <td>2168138</td>\n",
              "      <td>FUERTE</td>\n",
              "    </tr>\n",
              "    <tr>\n",
              "      <th>3</th>\n",
              "      <td>01/2017</td>\n",
              "      <td>1</td>\n",
              "      <td>455442</td>\n",
              "      <td>PPD</td>\n",
              "      <td>LIVIANO</td>\n",
              "      <td>MEDELLIN</td>\n",
              "      <td>CAMIONETA PASAJ.</td>\n",
              "      <td>NISSAN</td>\n",
              "      <td>QASHQAI [3]</td>\n",
              "      <td>ADVANCE  MT 2000CC 4X2 2AB ABS</td>\n",
              "      <td>2016.0</td>\n",
              "      <td>14</td>\n",
              "      <td>3563474</td>\n",
              "      <td>0</td>\n",
              "      <td>9166500</td>\n",
              "      <td>0</td>\n",
              "      <td>12729974</td>\n",
              "      <td>FUERTE</td>\n",
              "    </tr>\n",
              "    <tr>\n",
              "      <th>4</th>\n",
              "      <td>01/2017</td>\n",
              "      <td>1</td>\n",
              "      <td>455443</td>\n",
              "      <td>PPD</td>\n",
              "      <td>LIVIANO</td>\n",
              "      <td>MEDELLIN</td>\n",
              "      <td>AUTOMOVIL</td>\n",
              "      <td>CHEVROLET</td>\n",
              "      <td>AVEO</td>\n",
              "      <td>FIVE MT 1600CC 5P FE</td>\n",
              "      <td>2008.0</td>\n",
              "      <td>4</td>\n",
              "      <td>446830</td>\n",
              "      <td>0</td>\n",
              "      <td>652593</td>\n",
              "      <td>0</td>\n",
              "      <td>1099423</td>\n",
              "      <td>MEDIO</td>\n",
              "    </tr>\n",
              "  </tbody>\n",
              "</table>\n",
              "</div>"
            ],
            "text/plain": [
              "     Fecha  Mes   Aviso  ... ValNetoInsumos CostoReparación  TipoGolpe\n",
              "0  01/2017    1  455439  ...              0          3661632    FUERTE\n",
              "1  01/2017    1  455440  ...              0                0      LEVE\n",
              "2  01/2017    1  455441  ...              0          2168138    FUERTE\n",
              "3  01/2017    1  455442  ...              0         12729974    FUERTE\n",
              "4  01/2017    1  455443  ...              0          1099423     MEDIO\n",
              "\n",
              "[5 rows x 18 columns]"
            ]
          },
          "metadata": {},
          "execution_count": 14
        }
      ]
    },
    {
      "cell_type": "code",
      "metadata": {
        "colab": {
          "base_uri": "https://localhost:8080/"
        },
        "id": "7p7eAbNAi8BW",
        "outputId": "e820843d-c1e6-4cee-915d-f682fa544492"
      },
      "source": [
        "df.shape"
      ],
      "execution_count": 6,
      "outputs": [
        {
          "output_type": "execute_result",
          "data": {
            "text/plain": [
              "(199747, 18)"
            ]
          },
          "metadata": {},
          "execution_count": 6
        }
      ]
    },
    {
      "cell_type": "code",
      "metadata": {
        "colab": {
          "base_uri": "https://localhost:8080/",
          "height": 320
        },
        "id": "pfJiyXlcjEzk",
        "outputId": "22c82bb3-fac9-41c7-9b50-564b12df3691"
      },
      "source": [
        "df.describe()"
      ],
      "execution_count": 11,
      "outputs": [
        {
          "output_type": "execute_result",
          "data": {
            "text/html": [
              "<div>\n",
              "<style scoped>\n",
              "    .dataframe tbody tr th:only-of-type {\n",
              "        vertical-align: middle;\n",
              "    }\n",
              "\n",
              "    .dataframe tbody tr th {\n",
              "        vertical-align: top;\n",
              "    }\n",
              "\n",
              "    .dataframe thead th {\n",
              "        text-align: right;\n",
              "    }\n",
              "</style>\n",
              "<table border=\"1\" class=\"dataframe\">\n",
              "  <thead>\n",
              "    <tr style=\"text-align: right;\">\n",
              "      <th></th>\n",
              "      <th>Mes</th>\n",
              "      <th>Aviso</th>\n",
              "      <th>Modelo</th>\n",
              "      <th>DiasReparacion</th>\n",
              "      <th>ValNetoManoObra</th>\n",
              "      <th>ValNetoReparacionesExternas</th>\n",
              "      <th>ValNetoRepuestos</th>\n",
              "      <th>ValNetoInsumos</th>\n",
              "      <th>CostoReparación</th>\n",
              "    </tr>\n",
              "  </thead>\n",
              "  <tbody>\n",
              "    <tr>\n",
              "      <th>count</th>\n",
              "      <td>199747.000000</td>\n",
              "      <td>199747.000000</td>\n",
              "      <td>193046.000000</td>\n",
              "      <td>199747.000000</td>\n",
              "      <td>1.997470e+05</td>\n",
              "      <td>1.997470e+05</td>\n",
              "      <td>1.997470e+05</td>\n",
              "      <td>1.997470e+05</td>\n",
              "      <td>1.997470e+05</td>\n",
              "    </tr>\n",
              "    <tr>\n",
              "      <th>mean</th>\n",
              "      <td>5.942457</td>\n",
              "      <td>580466.406089</td>\n",
              "      <td>2013.468163</td>\n",
              "      <td>4.430349</td>\n",
              "      <td>8.376283e+05</td>\n",
              "      <td>1.277566e+04</td>\n",
              "      <td>2.294866e+06</td>\n",
              "      <td>1.816411e+04</td>\n",
              "      <td>3.163434e+06</td>\n",
              "    </tr>\n",
              "    <tr>\n",
              "      <th>std</th>\n",
              "      <td>3.249430</td>\n",
              "      <td>71842.667342</td>\n",
              "      <td>4.120236</td>\n",
              "      <td>4.696757</td>\n",
              "      <td>1.219926e+06</td>\n",
              "      <td>3.179248e+05</td>\n",
              "      <td>4.115414e+06</td>\n",
              "      <td>7.671236e+04</td>\n",
              "      <td>5.018308e+06</td>\n",
              "    </tr>\n",
              "    <tr>\n",
              "      <th>min</th>\n",
              "      <td>1.000000</td>\n",
              "      <td>455439.000000</td>\n",
              "      <td>1951.000000</td>\n",
              "      <td>0.000000</td>\n",
              "      <td>0.000000e+00</td>\n",
              "      <td>0.000000e+00</td>\n",
              "      <td>0.000000e+00</td>\n",
              "      <td>0.000000e+00</td>\n",
              "      <td>0.000000e+00</td>\n",
              "    </tr>\n",
              "    <tr>\n",
              "      <th>25%</th>\n",
              "      <td>3.000000</td>\n",
              "      <td>518389.500000</td>\n",
              "      <td>2012.000000</td>\n",
              "      <td>2.000000</td>\n",
              "      <td>0.000000e+00</td>\n",
              "      <td>0.000000e+00</td>\n",
              "      <td>0.000000e+00</td>\n",
              "      <td>0.000000e+00</td>\n",
              "      <td>0.000000e+00</td>\n",
              "    </tr>\n",
              "    <tr>\n",
              "      <th>50%</th>\n",
              "      <td>6.000000</td>\n",
              "      <td>580695.000000</td>\n",
              "      <td>2014.000000</td>\n",
              "      <td>4.000000</td>\n",
              "      <td>5.745290e+05</td>\n",
              "      <td>0.000000e+00</td>\n",
              "      <td>1.181356e+06</td>\n",
              "      <td>0.000000e+00</td>\n",
              "      <td>1.952142e+06</td>\n",
              "    </tr>\n",
              "    <tr>\n",
              "      <th>75%</th>\n",
              "      <td>9.000000</td>\n",
              "      <td>642956.500000</td>\n",
              "      <td>2016.000000</td>\n",
              "      <td>6.000000</td>\n",
              "      <td>1.230949e+06</td>\n",
              "      <td>0.000000e+00</td>\n",
              "      <td>2.935137e+06</td>\n",
              "      <td>0.000000e+00</td>\n",
              "      <td>4.180788e+06</td>\n",
              "    </tr>\n",
              "    <tr>\n",
              "      <th>max</th>\n",
              "      <td>12.000000</td>\n",
              "      <td>703548.000000</td>\n",
              "      <td>2019.000000</td>\n",
              "      <td>509.000000</td>\n",
              "      <td>5.709820e+07</td>\n",
              "      <td>4.155000e+07</td>\n",
              "      <td>1.849014e+08</td>\n",
              "      <td>4.517794e+06</td>\n",
              "      <td>1.900582e+08</td>\n",
              "    </tr>\n",
              "  </tbody>\n",
              "</table>\n",
              "</div>"
            ],
            "text/plain": [
              "                 Mes          Aviso  ...  ValNetoInsumos  CostoReparación \n",
              "count  199747.000000  199747.000000  ...    1.997470e+05      1.997470e+05\n",
              "mean        5.942457  580466.406089  ...    1.816411e+04      3.163434e+06\n",
              "std         3.249430   71842.667342  ...    7.671236e+04      5.018308e+06\n",
              "min         1.000000  455439.000000  ...    0.000000e+00      0.000000e+00\n",
              "25%         3.000000  518389.500000  ...    0.000000e+00      0.000000e+00\n",
              "50%         6.000000  580695.000000  ...    0.000000e+00      1.952142e+06\n",
              "75%         9.000000  642956.500000  ...    0.000000e+00      4.180788e+06\n",
              "max        12.000000  703548.000000  ...    4.517794e+06      1.900582e+08\n",
              "\n",
              "[8 rows x 9 columns]"
            ]
          },
          "metadata": {},
          "execution_count": 11
        }
      ]
    },
    {
      "cell_type": "code",
      "metadata": {
        "colab": {
          "base_uri": "https://localhost:8080/",
          "height": 476
        },
        "id": "X-iPgu1-oyPK",
        "outputId": "754983c2-8c25-408d-b247-31e6b1d5c483"
      },
      "source": [
        "import seaborn as sb\n",
        "sb.factorplot('Mes',data=df,kind=\"count\", aspect=2)"
      ],
      "execution_count": 50,
      "outputs": [
        {
          "output_type": "stream",
          "name": "stderr",
          "text": [
            "/usr/local/lib/python3.7/dist-packages/seaborn/categorical.py:3717: UserWarning: The `factorplot` function has been renamed to `catplot`. The original name will be removed in a future release. Please update your code. Note that the default `kind` in `factorplot` (`'point'`) has changed `'strip'` in `catplot`.\n",
            "  warnings.warn(msg)\n",
            "/usr/local/lib/python3.7/dist-packages/seaborn/_decorators.py:43: FutureWarning: Pass the following variable as a keyword arg: x. From version 0.12, the only valid positional argument will be `data`, and passing other arguments without an explicit keyword will result in an error or misinterpretation.\n",
            "  FutureWarning\n"
          ]
        },
        {
          "output_type": "execute_result",
          "data": {
            "text/plain": [
              "<seaborn.axisgrid.FacetGrid at 0x7f674b9cbd90>"
            ]
          },
          "metadata": {},
          "execution_count": 50
        },
        {
          "output_type": "display_data",
          "data": {
            "image/png": "[encoded data removed]",
            "text/plain": [
              "<Figure size 720x360 with 1 Axes>"
            ]
          },
          "metadata": {
            "needs_background": "light"
          }
        }
      ]
    },
    {
      "cell_type": "code",
      "metadata": {
        "colab": {
          "base_uri": "https://localhost:8080/",
          "height": 476
        },
        "id": "TsgS4iB2pHS1",
        "outputId": "192f2484-f6c7-443f-f4a9-bd2ad1a38307"
      },
      "source": [
        "import seaborn as sb\n",
        "sb.factorplot('Cobertura',data=df,kind=\"count\", aspect=2)"
      ],
      "execution_count": 52,
      "outputs": [
        {
          "output_type": "stream",
          "name": "stderr",
          "text": [
            "/usr/local/lib/python3.7/dist-packages/seaborn/categorical.py:3717: UserWarning: The `factorplot` function has been renamed to `catplot`. The original name will be removed in a future release. Please update your code. Note that the default `kind` in `factorplot` (`'point'`) has changed `'strip'` in `catplot`.\n",
            "  warnings.warn(msg)\n",
            "/usr/local/lib/python3.7/dist-packages/seaborn/_decorators.py:43: FutureWarning: Pass the following variable as a keyword arg: x. From version 0.12, the only valid positional argument will be `data`, and passing other arguments without an explicit keyword will result in an error or misinterpretation.\n",
            "  FutureWarning\n"
          ]
        },
        {
          "output_type": "execute_result",
          "data": {
            "text/plain": [
              "<seaborn.axisgrid.FacetGrid at 0x7f674f0cef10>"
            ]
          },
          "metadata": {},
          "execution_count": 52
        },
        {
          "output_type": "display_data",
          "data": {
            "image/png": "[encoded data removed]",
            "text/plain": [
              "<Figure size 720x360 with 1 Axes>"
            ]
          },
          "metadata": {
            "needs_background": "light"
          }
        }
      ]
    },
    {
      "cell_type": "code",
      "metadata": {
        "colab": {
          "base_uri": "https://localhost:8080/",
          "height": 476
        },
        "id": "ISzc7zC-pNTW",
        "outputId": "6741bd0c-e0be-40bc-ace7-75216e66ddb1"
      },
      "source": [
        "import seaborn as sb\n",
        "sb.factorplot('TipoVehiculo',data=df,kind=\"count\", aspect=2)"
      ],
      "execution_count": 53,
      "outputs": [
        {
          "output_type": "stream",
          "name": "stderr",
          "text": [
            "/usr/local/lib/python3.7/dist-packages/seaborn/categorical.py:3717: UserWarning: The `factorplot` function has been renamed to `catplot`. The original name will be removed in a future release. Please update your code. Note that the default `kind` in `factorplot` (`'point'`) has changed `'strip'` in `catplot`.\n",
            "  warnings.warn(msg)\n",
            "/usr/local/lib/python3.7/dist-packages/seaborn/_decorators.py:43: FutureWarning: Pass the following variable as a keyword arg: x. From version 0.12, the only valid positional argument will be `data`, and passing other arguments without an explicit keyword will result in an error or misinterpretation.\n",
            "  FutureWarning\n"
          ]
        },
        {
          "output_type": "execute_result",
          "data": {
            "text/plain": [
              "<seaborn.axisgrid.FacetGrid at 0x7f67499fcad0>"
            ]
          },
          "metadata": {},
          "execution_count": 53
        },
        {
          "output_type": "display_data",
          "data": {
            "image/png": "[encoded data removed]",
            "text/plain": [
              "<Figure size 720x360 with 1 Axes>"
            ]
          },
          "metadata": {
            "needs_background": "light"
          }
        }
      ]
    },
    {
      "cell_type": "code",
      "metadata": {
        "colab": {
          "base_uri": "https://localhost:8080/",
          "height": 476
        },
        "id": "LmJefhBNqwP_",
        "outputId": "8149bec9-c860-4e06-b6f5-9c48cee06bd7"
      },
      "source": [
        "import seaborn as sb\n",
        "sb.factorplot('TipoGolpe',data=df,kind=\"count\", aspect=2)"
      ],
      "execution_count": 57,
      "outputs": [
        {
          "output_type": "stream",
          "name": "stderr",
          "text": [
            "/usr/local/lib/python3.7/dist-packages/seaborn/categorical.py:3717: UserWarning: The `factorplot` function has been renamed to `catplot`. The original name will be removed in a future release. Please update your code. Note that the default `kind` in `factorplot` (`'point'`) has changed `'strip'` in `catplot`.\n",
            "  warnings.warn(msg)\n",
            "/usr/local/lib/python3.7/dist-packages/seaborn/_decorators.py:43: FutureWarning: Pass the following variable as a keyword arg: x. From version 0.12, the only valid positional argument will be `data`, and passing other arguments without an explicit keyword will result in an error or misinterpretation.\n",
            "  FutureWarning\n"
          ]
        },
        {
          "output_type": "execute_result",
          "data": {
            "text/plain": [
              "<seaborn.axisgrid.FacetGrid at 0x7f674a9f3950>"
            ]
          },
          "metadata": {},
          "execution_count": 57
        },
        {
          "output_type": "display_data",
          "data": {
            "image/png": "[encoded data removed]",
            "text/plain": [
              "<Figure size 720x360 with 1 Axes>"
            ]
          },
          "metadata": {
            "needs_background": "light"
          }
        }
      ]
    },
    {
      "cell_type": "code",
      "metadata": {
        "colab": {
          "base_uri": "https://localhost:8080/",
          "height": 351
        },
        "id": "dRBdB7Zjshrg",
        "outputId": "9e55ea70-348b-4617-e367-971c259d426c"
      },
      "source": [
        "df.corr()"
      ],
      "execution_count": 65,
      "outputs": [
        {
          "output_type": "execute_result",
          "data": {
            "text/html": [
              "<div>\n",
              "<style scoped>\n",
              "    .dataframe tbody tr th:only-of-type {\n",
              "        vertical-align: middle;\n",
              "    }\n",
              "\n",
              "    .dataframe tbody tr th {\n",
              "        vertical-align: top;\n",
              "    }\n",
              "\n",
              "    .dataframe thead th {\n",
              "        text-align: right;\n",
              "    }\n",
              "</style>\n",
              "<table border=\"1\" class=\"dataframe\">\n",
              "  <thead>\n",
              "    <tr style=\"text-align: right;\">\n",
              "      <th></th>\n",
              "      <th>Mes</th>\n",
              "      <th>Aviso</th>\n",
              "      <th>Modelo</th>\n",
              "      <th>DiasReparacion</th>\n",
              "      <th>ValNetoManoObra</th>\n",
              "      <th>ValNetoReparacionesExternas</th>\n",
              "      <th>ValNetoRepuestos</th>\n",
              "      <th>ValNetoInsumos</th>\n",
              "      <th>CostoReparación</th>\n",
              "    </tr>\n",
              "  </thead>\n",
              "  <tbody>\n",
              "    <tr>\n",
              "      <th>Mes</th>\n",
              "      <td>1.000000</td>\n",
              "      <td>0.269896</td>\n",
              "      <td>0.025175</td>\n",
              "      <td>-0.013058</td>\n",
              "      <td>-0.019038</td>\n",
              "      <td>0.000447</td>\n",
              "      <td>-0.019697</td>\n",
              "      <td>-0.006642</td>\n",
              "      <td>-0.020855</td>\n",
              "    </tr>\n",
              "    <tr>\n",
              "      <th>Aviso</th>\n",
              "      <td>0.269896</td>\n",
              "      <td>1.000000</td>\n",
              "      <td>0.106331</td>\n",
              "      <td>-0.034030</td>\n",
              "      <td>-0.038916</td>\n",
              "      <td>-0.001887</td>\n",
              "      <td>-0.042596</td>\n",
              "      <td>-0.020480</td>\n",
              "      <td>-0.044825</td>\n",
              "    </tr>\n",
              "    <tr>\n",
              "      <th>Modelo</th>\n",
              "      <td>0.025175</td>\n",
              "      <td>0.106331</td>\n",
              "      <td>1.000000</td>\n",
              "      <td>-0.014771</td>\n",
              "      <td>0.076051</td>\n",
              "      <td>-0.009987</td>\n",
              "      <td>0.082529</td>\n",
              "      <td>0.027426</td>\n",
              "      <td>0.085980</td>\n",
              "    </tr>\n",
              "    <tr>\n",
              "      <th>DiasReparacion</th>\n",
              "      <td>-0.013058</td>\n",
              "      <td>-0.034030</td>\n",
              "      <td>-0.014771</td>\n",
              "      <td>1.000000</td>\n",
              "      <td>0.408699</td>\n",
              "      <td>-0.034747</td>\n",
              "      <td>0.233108</td>\n",
              "      <td>0.153255</td>\n",
              "      <td>0.290661</td>\n",
              "    </tr>\n",
              "    <tr>\n",
              "      <th>ValNetoManoObra</th>\n",
              "      <td>-0.019038</td>\n",
              "      <td>-0.038916</td>\n",
              "      <td>0.076051</td>\n",
              "      <td>0.408699</td>\n",
              "      <td>1.000000</td>\n",
              "      <td>0.126749</td>\n",
              "      <td>0.586688</td>\n",
              "      <td>0.372514</td>\n",
              "      <td>0.737950</td>\n",
              "    </tr>\n",
              "    <tr>\n",
              "      <th>ValNetoReparacionesExternas</th>\n",
              "      <td>0.000447</td>\n",
              "      <td>-0.001887</td>\n",
              "      <td>-0.009987</td>\n",
              "      <td>-0.034747</td>\n",
              "      <td>0.126749</td>\n",
              "      <td>1.000000</td>\n",
              "      <td>0.115624</td>\n",
              "      <td>0.104006</td>\n",
              "      <td>0.190576</td>\n",
              "    </tr>\n",
              "    <tr>\n",
              "      <th>ValNetoRepuestos</th>\n",
              "      <td>-0.019697</td>\n",
              "      <td>-0.042596</td>\n",
              "      <td>0.082529</td>\n",
              "      <td>0.233108</td>\n",
              "      <td>0.586688</td>\n",
              "      <td>0.115624</td>\n",
              "      <td>1.000000</td>\n",
              "      <td>0.451354</td>\n",
              "      <td>0.976926</td>\n",
              "    </tr>\n",
              "    <tr>\n",
              "      <th>ValNetoInsumos</th>\n",
              "      <td>-0.006642</td>\n",
              "      <td>-0.020480</td>\n",
              "      <td>0.027426</td>\n",
              "      <td>0.153255</td>\n",
              "      <td>0.372514</td>\n",
              "      <td>0.104006</td>\n",
              "      <td>0.451354</td>\n",
              "      <td>1.000000</td>\n",
              "      <td>0.482578</td>\n",
              "    </tr>\n",
              "    <tr>\n",
              "      <th>CostoReparación</th>\n",
              "      <td>-0.020855</td>\n",
              "      <td>-0.044825</td>\n",
              "      <td>0.085980</td>\n",
              "      <td>0.290661</td>\n",
              "      <td>0.737950</td>\n",
              "      <td>0.190576</td>\n",
              "      <td>0.976926</td>\n",
              "      <td>0.482578</td>\n",
              "      <td>1.000000</td>\n",
              "    </tr>\n",
              "  </tbody>\n",
              "</table>\n",
              "</div>"
            ],
            "text/plain": [
              "                                  Mes  ...  CostoReparación \n",
              "Mes                          1.000000  ...         -0.020855\n",
              "Aviso                        0.269896  ...         -0.044825\n",
              "Modelo                       0.025175  ...          0.085980\n",
              "DiasReparacion              -0.013058  ...          0.290661\n",
              "ValNetoManoObra             -0.019038  ...          0.737950\n",
              "ValNetoReparacionesExternas  0.000447  ...          0.190576\n",
              "ValNetoRepuestos            -0.019697  ...          0.976926\n",
              "ValNetoInsumos              -0.006642  ...          0.482578\n",
              "CostoReparación             -0.020855  ...          1.000000\n",
              "\n",
              "[9 rows x 9 columns]"
            ]
          },
          "metadata": {},
          "execution_count": 65
        }
      ]
    },
    {
      "cell_type": "code",
      "metadata": {
        "colab": {
          "base_uri": "https://localhost:8080/",
          "height": 427
        },
        "id": "3_bNfVhAtt4Y",
        "outputId": "c3569907-3a9b-4d38-afcf-a2037d97c30e"
      },
      "source": [
        "import seaborn as sb\n",
        "sb.heatmap(df.corr(), annot=True)"
      ],
      "execution_count": 68,
      "outputs": [
        {
          "output_type": "execute_result",
          "data": {
            "text/plain": [
              "<matplotlib.axes._subplots.AxesSubplot at 0x7f674e1acf50>"
            ]
          },
          "metadata": {},
          "execution_count": 68
        },
        {
          "output_type": "display_data",
          "data": {
            "image/png": "[encoded data removed]",
            "text/plain": [
              "<Figure size 432x288 with 2 Axes>"
            ]
          },
          "metadata": {
            "needs_background": "light"
          }
        }
      ]
    },
    {
      "cell_type": "code",
      "metadata": {
        "id": "ftmwePxEup-w"
      },
      "source": [
        "df.plot.scatter(x=\"DiasReparacion\t\",y=\"\")"
      ],
      "execution_count": null,
      "outputs": []
    }
  ]
}