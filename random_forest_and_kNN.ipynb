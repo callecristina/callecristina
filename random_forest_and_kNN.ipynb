{
  "nbformat": 4,
  "nbformat_minor": 0,
  "metadata": {
    "colab": {
      "name": "random forest and kNN.ipynb",
      "provenance": [],
      "authorship_tag": "ABX9TyN8ZnYZt3+0DQ4Dy3aC2vcG",
      "include_colab_link": true
    },
    "kernelspec": {
      "name": "python3",
      "display_name": "Python 3"
    },
    "language_info": {
      "name": "python"
    }
  },
  "cells": [
    {
      "cell_type": "markdown",
      "metadata": {
        "id": "view-in-github",
        "colab_type": "text"
      },
      "source": [
        "<a href=\"https://colab.research.google.com/github/callecristina/callecristina/blob/main/random_forest_and_kNN.ipynb\" target=\"_parent\"><img src=\"https://colab.research.google.com/assets/colab-badge.svg\" alt=\"Open In Colab\"/></a>"
      ]
    },
    {
      "cell_type": "markdown",
      "metadata": {
        "id": "N6RsX52yXW_q"
      },
      "source": [
        "Carga de los datos"
      ]
    },
    {
      "cell_type": "code",
      "metadata": {
        "id": "ga4DOPd8DFj1",
        "colab": {
          "base_uri": "https://localhost:8080/",
          "height": 243
        },
        "outputId": "71e219e9-c22e-4f5f-9367-779529bc520f"
      },
      "source": [
        "import csv #metodo 1\n",
        "import pandas as pd\n",
        "df=pd.read_csv(\"Tabla_1.csv\", sep=\",\")\n",
        "df.head()\n"
      ],
      "execution_count": 295,
      "outputs": [
        {
          "output_type": "execute_result",
          "data": {
            "text/html": [
              "<div>\n",
              "<style scoped>\n",
              "    .dataframe tbody tr th:only-of-type {\n",
              "        vertical-align: middle;\n",
              "    }\n",
              "\n",
              "    .dataframe tbody tr th {\n",
              "        vertical-align: top;\n",
              "    }\n",
              "\n",
              "    .dataframe thead th {\n",
              "        text-align: right;\n",
              "    }\n",
              "</style>\n",
              "<table border=\"1\" class=\"dataframe\">\n",
              "  <thead>\n",
              "    <tr style=\"text-align: right;\">\n",
              "      <th></th>\n",
              "      <th>Unnamed: 0</th>\n",
              "      <th>Store</th>\n",
              "      <th>Dept</th>\n",
              "      <th>Date</th>\n",
              "      <th>Weekly_Sales</th>\n",
              "      <th>IsHoliday_x</th>\n",
              "      <th>Temperature</th>\n",
              "      <th>Fuel_Price</th>\n",
              "      <th>MarkDown1</th>\n",
              "      <th>MarkDown2</th>\n",
              "      <th>MarkDown3</th>\n",
              "      <th>MarkDown4</th>\n",
              "      <th>MarkDown5</th>\n",
              "      <th>CPI</th>\n",
              "      <th>Unemployment</th>\n",
              "      <th>IsHoliday_y</th>\n",
              "    </tr>\n",
              "  </thead>\n",
              "  <tbody>\n",
              "    <tr>\n",
              "      <th>0</th>\n",
              "      <td>0</td>\n",
              "      <td>5</td>\n",
              "      <td>16</td>\n",
              "      <td>16/09/2011</td>\n",
              "      <td>564312.734549</td>\n",
              "      <td>False</td>\n",
              "      <td>32.687061</td>\n",
              "      <td>3.526</td>\n",
              "      <td>9691.276227</td>\n",
              "      <td>464.157260</td>\n",
              "      <td>21484.678945</td>\n",
              "      <td>15838.706634</td>\n",
              "      <td>10074.683942</td>\n",
              "      <td>216.603308</td>\n",
              "      <td>6.529</td>\n",
              "      <td>False</td>\n",
              "    </tr>\n",
              "    <tr>\n",
              "      <th>1</th>\n",
              "      <td>1</td>\n",
              "      <td>21</td>\n",
              "      <td>52</td>\n",
              "      <td>24/06/2011</td>\n",
              "      <td>169199.146654</td>\n",
              "      <td>False</td>\n",
              "      <td>59.608361</td>\n",
              "      <td>3.594</td>\n",
              "      <td>35052.144316</td>\n",
              "      <td>33433.615110</td>\n",
              "      <td>23406.818748</td>\n",
              "      <td>10586.568174</td>\n",
              "      <td>18348.012177</td>\n",
              "      <td>214.744111</td>\n",
              "      <td>7.931</td>\n",
              "      <td>False</td>\n",
              "    </tr>\n",
              "    <tr>\n",
              "      <th>2</th>\n",
              "      <td>2</td>\n",
              "      <td>9</td>\n",
              "      <td>24</td>\n",
              "      <td>27/01/2012</td>\n",
              "      <td>76445.807545</td>\n",
              "      <td>False</td>\n",
              "      <td>16.623822</td>\n",
              "      <td>3.290</td>\n",
              "      <td>13763.521756</td>\n",
              "      <td>33784.341040</td>\n",
              "      <td>26138.012756</td>\n",
              "      <td>21585.291347</td>\n",
              "      <td>1582.360568</td>\n",
              "      <td>223.806053</td>\n",
              "      <td>5.667</td>\n",
              "      <td>False</td>\n",
              "    </tr>\n",
              "    <tr>\n",
              "      <th>3</th>\n",
              "      <td>3</td>\n",
              "      <td>6</td>\n",
              "      <td>60</td>\n",
              "      <td>05/08/2011</td>\n",
              "      <td>529384.632399</td>\n",
              "      <td>False</td>\n",
              "      <td>36.466380</td>\n",
              "      <td>3.684</td>\n",
              "      <td>7446.306499</td>\n",
              "      <td>2438.613334</td>\n",
              "      <td>5175.440486</td>\n",
              "      <td>10227.979090</td>\n",
              "      <td>8692.253401</td>\n",
              "      <td>217.083989</td>\n",
              "      <td>6.925</td>\n",
              "      <td>False</td>\n",
              "    </tr>\n",
              "    <tr>\n",
              "      <th>4</th>\n",
              "      <td>4</td>\n",
              "      <td>17</td>\n",
              "      <td>42</td>\n",
              "      <td>23/12/2011</td>\n",
              "      <td>590421.125970</td>\n",
              "      <td>False</td>\n",
              "      <td>92.396503</td>\n",
              "      <td>3.186</td>\n",
              "      <td>2679.329519</td>\n",
              "      <td>9565.582845</td>\n",
              "      <td>23651.312194</td>\n",
              "      <td>12981.884477</td>\n",
              "      <td>10443.878610</td>\n",
              "      <td>129.984548</td>\n",
              "      <td>6.617</td>\n",
              "      <td>False</td>\n",
              "    </tr>\n",
              "  </tbody>\n",
              "</table>\n",
              "</div>"
            ],
            "text/plain": [
              "   Unnamed: 0  Store  Dept  ...         CPI  Unemployment  IsHoliday_y\n",
              "0           0      5    16  ...  216.603308         6.529        False\n",
              "1           1     21    52  ...  214.744111         7.931        False\n",
              "2           2      9    24  ...  223.806053         5.667        False\n",
              "3           3      6    60  ...  217.083989         6.925        False\n",
              "4           4     17    42  ...  129.984548         6.617        False\n",
              "\n",
              "[5 rows x 16 columns]"
            ]
          },
          "metadata": {},
          "execution_count": 295
        }
      ]
    },
    {
      "cell_type": "code",
      "metadata": {
        "colab": {
          "base_uri": "https://localhost:8080/",
          "height": 206
        },
        "id": "VJ6kpmuVIEXJ",
        "outputId": "138c1bb6-da98-4e23-8016-da0ae1f73926"
      },
      "source": [
        "#Selecionar las variables relevantes\n",
        "df=df.iloc[:,1:]\n",
        "df=df.drop([\"Dept\", \"MarkDown1\",\"MarkDown2\",\"MarkDown3\",\"MarkDown4\",\"MarkDown5\"], axis=1)\n",
        "df.head()"
      ],
      "execution_count": 296,
      "outputs": [
        {
          "output_type": "execute_result",
          "data": {
            "text/html": [
              "<div>\n",
              "<style scoped>\n",
              "    .dataframe tbody tr th:only-of-type {\n",
              "        vertical-align: middle;\n",
              "    }\n",
              "\n",
              "    .dataframe tbody tr th {\n",
              "        vertical-align: top;\n",
              "    }\n",
              "\n",
              "    .dataframe thead th {\n",
              "        text-align: right;\n",
              "    }\n",
              "</style>\n",
              "<table border=\"1\" class=\"dataframe\">\n",
              "  <thead>\n",
              "    <tr style=\"text-align: right;\">\n",
              "      <th></th>\n",
              "      <th>Store</th>\n",
              "      <th>Date</th>\n",
              "      <th>Weekly_Sales</th>\n",
              "      <th>IsHoliday_x</th>\n",
              "      <th>Temperature</th>\n",
              "      <th>Fuel_Price</th>\n",
              "      <th>CPI</th>\n",
              "      <th>Unemployment</th>\n",
              "      <th>IsHoliday_y</th>\n",
              "    </tr>\n",
              "  </thead>\n",
              "  <tbody>\n",
              "    <tr>\n",
              "      <th>0</th>\n",
              "      <td>5</td>\n",
              "      <td>16/09/2011</td>\n",
              "      <td>564312.734549</td>\n",
              "      <td>False</td>\n",
              "      <td>32.687061</td>\n",
              "      <td>3.526</td>\n",
              "      <td>216.603308</td>\n",
              "      <td>6.529</td>\n",
              "      <td>False</td>\n",
              "    </tr>\n",
              "    <tr>\n",
              "      <th>1</th>\n",
              "      <td>21</td>\n",
              "      <td>24/06/2011</td>\n",
              "      <td>169199.146654</td>\n",
              "      <td>False</td>\n",
              "      <td>59.608361</td>\n",
              "      <td>3.594</td>\n",
              "      <td>214.744111</td>\n",
              "      <td>7.931</td>\n",
              "      <td>False</td>\n",
              "    </tr>\n",
              "    <tr>\n",
              "      <th>2</th>\n",
              "      <td>9</td>\n",
              "      <td>27/01/2012</td>\n",
              "      <td>76445.807545</td>\n",
              "      <td>False</td>\n",
              "      <td>16.623822</td>\n",
              "      <td>3.290</td>\n",
              "      <td>223.806053</td>\n",
              "      <td>5.667</td>\n",
              "      <td>False</td>\n",
              "    </tr>\n",
              "    <tr>\n",
              "      <th>3</th>\n",
              "      <td>6</td>\n",
              "      <td>05/08/2011</td>\n",
              "      <td>529384.632399</td>\n",
              "      <td>False</td>\n",
              "      <td>36.466380</td>\n",
              "      <td>3.684</td>\n",
              "      <td>217.083989</td>\n",
              "      <td>6.925</td>\n",
              "      <td>False</td>\n",
              "    </tr>\n",
              "    <tr>\n",
              "      <th>4</th>\n",
              "      <td>17</td>\n",
              "      <td>23/12/2011</td>\n",
              "      <td>590421.125970</td>\n",
              "      <td>False</td>\n",
              "      <td>92.396503</td>\n",
              "      <td>3.186</td>\n",
              "      <td>129.984548</td>\n",
              "      <td>6.617</td>\n",
              "      <td>False</td>\n",
              "    </tr>\n",
              "  </tbody>\n",
              "</table>\n",
              "</div>"
            ],
            "text/plain": [
              "   Store        Date   Weekly_Sales  ...         CPI  Unemployment  IsHoliday_y\n",
              "0      5  16/09/2011  564312.734549  ...  216.603308         6.529        False\n",
              "1     21  24/06/2011  169199.146654  ...  214.744111         7.931        False\n",
              "2      9  27/01/2012   76445.807545  ...  223.806053         5.667        False\n",
              "3      6  05/08/2011  529384.632399  ...  217.083989         6.925        False\n",
              "4     17  23/12/2011  590421.125970  ...  129.984548         6.617        False\n",
              "\n",
              "[5 rows x 9 columns]"
            ]
          },
          "metadata": {},
          "execution_count": 296
        }
      ]
    },
    {
      "cell_type": "markdown",
      "metadata": {
        "id": "QU1iyWVMXfs6"
      },
      "source": [
        "Descripción de los datos. Se ven que que son 50 observaciones y que la base de datos esta completa"
      ]
    },
    {
      "cell_type": "code",
      "metadata": {
        "colab": {
          "base_uri": "https://localhost:8080/",
          "height": 300
        },
        "id": "QBlJa0fYaWKS",
        "outputId": "404be8aa-9669-40e3-81af-0b891b369dc5"
      },
      "source": [
        "df.describe()"
      ],
      "execution_count": 297,
      "outputs": [
        {
          "output_type": "execute_result",
          "data": {
            "text/html": [
              "<div>\n",
              "<style scoped>\n",
              "    .dataframe tbody tr th:only-of-type {\n",
              "        vertical-align: middle;\n",
              "    }\n",
              "\n",
              "    .dataframe tbody tr th {\n",
              "        vertical-align: top;\n",
              "    }\n",
              "\n",
              "    .dataframe thead th {\n",
              "        text-align: right;\n",
              "    }\n",
              "</style>\n",
              "<table border=\"1\" class=\"dataframe\">\n",
              "  <thead>\n",
              "    <tr style=\"text-align: right;\">\n",
              "      <th></th>\n",
              "      <th>Store</th>\n",
              "      <th>Weekly_Sales</th>\n",
              "      <th>Temperature</th>\n",
              "      <th>Fuel_Price</th>\n",
              "      <th>CPI</th>\n",
              "      <th>Unemployment</th>\n",
              "    </tr>\n",
              "  </thead>\n",
              "  <tbody>\n",
              "    <tr>\n",
              "      <th>count</th>\n",
              "      <td>50.000000</td>\n",
              "      <td>50.000000</td>\n",
              "      <td>50.000000</td>\n",
              "      <td>50.000000</td>\n",
              "      <td>50.000000</td>\n",
              "      <td>50.000000</td>\n",
              "    </tr>\n",
              "    <tr>\n",
              "      <th>mean</th>\n",
              "      <td>23.000000</td>\n",
              "      <td>311881.166051</td>\n",
              "      <td>53.860291</td>\n",
              "      <td>3.410660</td>\n",
              "      <td>170.399624</td>\n",
              "      <td>7.786860</td>\n",
              "    </tr>\n",
              "    <tr>\n",
              "      <th>std</th>\n",
              "      <td>12.748749</td>\n",
              "      <td>200149.261403</td>\n",
              "      <td>32.810056</td>\n",
              "      <td>0.379839</td>\n",
              "      <td>39.681079</td>\n",
              "      <td>1.985656</td>\n",
              "    </tr>\n",
              "    <tr>\n",
              "      <th>min</th>\n",
              "      <td>3.000000</td>\n",
              "      <td>11877.665598</td>\n",
              "      <td>-0.149522</td>\n",
              "      <td>2.720000</td>\n",
              "      <td>126.208548</td>\n",
              "      <td>4.145000</td>\n",
              "    </tr>\n",
              "    <tr>\n",
              "      <th>25%</th>\n",
              "      <td>11.000000</td>\n",
              "      <td>154829.287341</td>\n",
              "      <td>27.754418</td>\n",
              "      <td>3.142000</td>\n",
              "      <td>132.856661</td>\n",
              "      <td>6.628750</td>\n",
              "    </tr>\n",
              "    <tr>\n",
              "      <th>50%</th>\n",
              "      <td>23.000000</td>\n",
              "      <td>244411.544868</td>\n",
              "      <td>53.154975</td>\n",
              "      <td>3.434500</td>\n",
              "      <td>141.409535</td>\n",
              "      <td>7.520500</td>\n",
              "    </tr>\n",
              "    <tr>\n",
              "      <th>75%</th>\n",
              "      <td>34.000000</td>\n",
              "      <td>500367.379137</td>\n",
              "      <td>84.572924</td>\n",
              "      <td>3.672500</td>\n",
              "      <td>210.714492</td>\n",
              "      <td>8.799500</td>\n",
              "    </tr>\n",
              "    <tr>\n",
              "      <th>max</th>\n",
              "      <td>45.000000</td>\n",
              "      <td>682722.852234</td>\n",
              "      <td>99.921138</td>\n",
              "      <td>4.110000</td>\n",
              "      <td>225.453758</td>\n",
              "      <td>14.021000</td>\n",
              "    </tr>\n",
              "  </tbody>\n",
              "</table>\n",
              "</div>"
            ],
            "text/plain": [
              "           Store   Weekly_Sales  ...         CPI  Unemployment\n",
              "count  50.000000      50.000000  ...   50.000000     50.000000\n",
              "mean   23.000000  311881.166051  ...  170.399624      7.786860\n",
              "std    12.748749  200149.261403  ...   39.681079      1.985656\n",
              "min     3.000000   11877.665598  ...  126.208548      4.145000\n",
              "25%    11.000000  154829.287341  ...  132.856661      6.628750\n",
              "50%    23.000000  244411.544868  ...  141.409535      7.520500\n",
              "75%    34.000000  500367.379137  ...  210.714492      8.799500\n",
              "max    45.000000  682722.852234  ...  225.453758     14.021000\n",
              "\n",
              "[8 rows x 6 columns]"
            ]
          },
          "metadata": {},
          "execution_count": 297
        }
      ]
    },
    {
      "cell_type": "markdown",
      "metadata": {
        "id": "-h8_GXBXO3f8"
      },
      "source": [
        "Cuantas veces se repite cada tienda"
      ]
    },
    {
      "cell_type": "code",
      "metadata": {
        "id": "MSsf1WJMO7DD"
      },
      "source": [
        "print(df.groupby('Store').size())"
      ],
      "execution_count": null,
      "outputs": []
    },
    {
      "cell_type": "code",
      "metadata": {
        "colab": {
          "base_uri": "https://localhost:8080/",
          "height": 490
        },
        "id": "RQvZnl7uPRGd",
        "outputId": "5a5b9543-ccec-4bf4-b032-4168827c7656"
      },
      "source": [
        "#Se grafica la frencuencia de cada tienda\n",
        "import seaborn as sb\n",
        "sb.factorplot('Store',data=df,kind=\"count\", aspect=2)"
      ],
      "execution_count": 298,
      "outputs": [
        {
          "output_type": "stream",
          "text": [
            "/usr/local/lib/python3.7/dist-packages/seaborn/categorical.py:3714: UserWarning: The `factorplot` function has been renamed to `catplot`. The original name will be removed in a future release. Please update your code. Note that the default `kind` in `factorplot` (`'point'`) has changed `'strip'` in `catplot`.\n",
            "  warnings.warn(msg)\n",
            "/usr/local/lib/python3.7/dist-packages/seaborn/_decorators.py:43: FutureWarning: Pass the following variable as a keyword arg: x. From version 0.12, the only valid positional argument will be `data`, and passing other arguments without an explicit keyword will result in an error or misinterpretation.\n",
            "  FutureWarning\n"
          ],
          "name": "stderr"
        },
        {
          "output_type": "execute_result",
          "data": {
            "text/plain": [
              "<seaborn.axisgrid.FacetGrid at 0x7fd021b38750>"
            ]
          },
          "metadata": {},
          "execution_count": 298
        },
        {
          "output_type": "display_data",
          "data": {
            "image/png": "[encoded data removed]",
            "text/plain": [
              "<Figure size 720x360 with 1 Axes>"
            ]
          },
          "metadata": {
            "needs_background": "light"
          }
        }
      ]
    },
    {
      "cell_type": "markdown",
      "metadata": {
        "id": "7e27mzWNNFbq"
      },
      "source": [
        "El histograma de las variables relevantes"
      ]
    },
    {
      "cell_type": "code",
      "metadata": {
        "colab": {
          "base_uri": "https://localhost:8080/",
          "height": 283
        },
        "id": "4GImQpovMjF6",
        "outputId": "31d138ad-a6b2-4728-b7e3-686f2d6bd1ea"
      },
      "source": [
        "df.Weekly_Sales.hist()"
      ],
      "execution_count": 299,
      "outputs": [
        {
          "output_type": "execute_result",
          "data": {
            "text/plain": [
              "<matplotlib.axes._subplots.AxesSubplot at 0x7fd021758f90>"
            ]
          },
          "metadata": {},
          "execution_count": 299
        },
        {
          "output_type": "display_data",
          "data": {
            "image/png": "[encoded data removed]",
            "text/plain": [
              "<Figure size 432x288 with 1 Axes>"
            ]
          },
          "metadata": {
            "needs_background": "light"
          }
        }
      ]
    },
    {
      "cell_type": "code",
      "metadata": {
        "colab": {
          "base_uri": "https://localhost:8080/",
          "height": 283
        },
        "id": "lqk7FQs4MwAB",
        "outputId": "a5527e43-c4df-475c-d321-4b4416dcf71e"
      },
      "source": [
        "df.Temperature.hist()"
      ],
      "execution_count": 300,
      "outputs": [
        {
          "output_type": "execute_result",
          "data": {
            "text/plain": [
              "<matplotlib.axes._subplots.AxesSubplot at 0x7fd0203d4a90>"
            ]
          },
          "metadata": {},
          "execution_count": 300
        },
        {
          "output_type": "display_data",
          "data": {
            "image/png": "[encoded data removed]",
            "text/plain": [
              "<Figure size 432x288 with 1 Axes>"
            ]
          },
          "metadata": {
            "needs_background": "light"
          }
        }
      ]
    },
    {
      "cell_type": "code",
      "metadata": {
        "colab": {
          "base_uri": "https://localhost:8080/",
          "height": 283
        },
        "id": "M5TQrHSVM9IT",
        "outputId": "e5388fe8-7dac-44de-9bc6-69dbab3e9a25"
      },
      "source": [
        "df.Fuel_Price.hist()"
      ],
      "execution_count": 301,
      "outputs": [
        {
          "output_type": "execute_result",
          "data": {
            "text/plain": [
              "<matplotlib.axes._subplots.AxesSubplot at 0x7fd020349710>"
            ]
          },
          "metadata": {},
          "execution_count": 301
        },
        {
          "output_type": "display_data",
          "data": {
            "image/png": "[encoded data removed]",
            "text/plain": [
              "<Figure size 432x288 with 1 Axes>"
            ]
          },
          "metadata": {
            "needs_background": "light"
          }
        }
      ]
    },
    {
      "cell_type": "code",
      "metadata": {
        "colab": {
          "base_uri": "https://localhost:8080/",
          "height": 283
        },
        "id": "d6KTr9a6NVbP",
        "outputId": "cdb0c043-ec6a-4102-d6d0-61c52c593104"
      },
      "source": [
        "df.CPI.hist()"
      ],
      "execution_count": 302,
      "outputs": [
        {
          "output_type": "execute_result",
          "data": {
            "text/plain": [
              "<matplotlib.axes._subplots.AxesSubplot at 0x7fd0202e36d0>"
            ]
          },
          "metadata": {},
          "execution_count": 302
        },
        {
          "output_type": "display_data",
          "data": {
            "image/png": "[encoded data removed]",
            "text/plain": [
              "<Figure size 432x288 with 1 Axes>"
            ]
          },
          "metadata": {
            "needs_background": "light"
          }
        }
      ]
    },
    {
      "cell_type": "code",
      "metadata": {
        "colab": {
          "base_uri": "https://localhost:8080/",
          "height": 283
        },
        "id": "IIlIXZD8NfFk",
        "outputId": "2639430f-6649-4fd4-f2a3-fbba931692ae"
      },
      "source": [
        "df.Unemployment.hist()"
      ],
      "execution_count": 303,
      "outputs": [
        {
          "output_type": "execute_result",
          "data": {
            "text/plain": [
              "<matplotlib.axes._subplots.AxesSubplot at 0x7fd0201f9910>"
            ]
          },
          "metadata": {},
          "execution_count": 303
        },
        {
          "output_type": "display_data",
          "data": {
            "image/png": "[encoded data removed]",
            "text/plain": [
              "<Figure size 432x288 with 1 Axes>"
            ]
          },
          "metadata": {
            "needs_background": "light"
          }
        }
      ]
    },
    {
      "cell_type": "markdown",
      "metadata": {
        "id": "8trruo7xQeEd"
      },
      "source": [
        "K-Nearest Neighbor"
      ]
    },
    {
      "cell_type": "markdown",
      "metadata": {
        "id": "e6hVgDzLRUU_"
      },
      "source": [
        "Instalación del paquete"
      ]
    },
    {
      "cell_type": "code",
      "metadata": {
        "colab": {
          "base_uri": "https://localhost:8080/"
        },
        "id": "2nYVO0gAJCBO",
        "outputId": "4d7ee7a0-48a2-4d62-8210-776338734554"
      },
      "source": [
        "pip install sklearn"
      ],
      "execution_count": 304,
      "outputs": [
        {
          "output_type": "stream",
          "text": [
            "Requirement already satisfied: sklearn in /usr/local/lib/python3.7/dist-packages (0.0)\n",
            "Requirement already satisfied: scikit-learn in /usr/local/lib/python3.7/dist-packages (from sklearn) (0.22.2.post1)\n",
            "Requirement already satisfied: scipy>=0.17.0 in /usr/local/lib/python3.7/dist-packages (from scikit-learn->sklearn) (1.4.1)\n",
            "Requirement already satisfied: numpy>=1.11.0 in /usr/local/lib/python3.7/dist-packages (from scikit-learn->sklearn) (1.19.5)\n",
            "Requirement already satisfied: joblib>=0.11 in /usr/local/lib/python3.7/dist-packages (from scikit-learn->sklearn) (1.0.1)\n"
          ],
          "name": "stdout"
        }
      ]
    },
    {
      "cell_type": "markdown",
      "metadata": {
        "id": "ks61KSEJW3BB"
      },
      "source": [
        "importación de sklear"
      ]
    },
    {
      "cell_type": "code",
      "metadata": {
        "id": "cFZsP8P-Rf-w"
      },
      "source": [
        "from sklearn.model_selection import train_test_split\n",
        "from sklearn.model_selection import GridSearchCV\n",
        "from sklearn.preprocessing import MinMaxScaler\n",
        "from sklearn.neighbors import KNeighborsClassifier\n",
        "from sklearn.neighbors import KNeighborsRegressor\n",
        "from sklearn.metrics import classification_report\n",
        "from sklearn.metrics import confusion_matrix\n"
      ],
      "execution_count": 305,
      "outputs": []
    },
    {
      "cell_type": "markdown",
      "metadata": {
        "id": "Chpj1YJBT-XP"
      },
      "source": [
        "La división de los datos"
      ]
    },
    {
      "cell_type": "code",
      "metadata": {
        "colab": {
          "base_uri": "https://localhost:8080/",
          "height": 1000
        },
        "id": "AiSMoldw0Wzk",
        "outputId": "cd5729fa-0a67-4a63-9e35-113b5f59ced0"
      },
      "source": [
        "x=df.iloc[:,3:]\n",
        "x=pd.concat([df.Store,x],axis=1)\n",
        "x\n",
        "#Lo anterior crea data frame con las caracteristicas"
      ],
      "execution_count": 392,
      "outputs": [
        {
          "output_type": "execute_result",
          "data": {
            "text/html": [
              "<div>\n",
              "<style scoped>\n",
              "    .dataframe tbody tr th:only-of-type {\n",
              "        vertical-align: middle;\n",
              "    }\n",
              "\n",
              "    .dataframe tbody tr th {\n",
              "        vertical-align: top;\n",
              "    }\n",
              "\n",
              "    .dataframe thead th {\n",
              "        text-align: right;\n",
              "    }\n",
              "</style>\n",
              "<table border=\"1\" class=\"dataframe\">\n",
              "  <thead>\n",
              "    <tr style=\"text-align: right;\">\n",
              "      <th></th>\n",
              "      <th>Store</th>\n",
              "      <th>IsHoliday_x</th>\n",
              "      <th>Temperature</th>\n",
              "      <th>Fuel_Price</th>\n",
              "      <th>CPI</th>\n",
              "      <th>Unemployment</th>\n",
              "      <th>IsHoliday_y</th>\n",
              "    </tr>\n",
              "  </thead>\n",
              "  <tbody>\n",
              "    <tr>\n",
              "      <th>0</th>\n",
              "      <td>5</td>\n",
              "      <td>False</td>\n",
              "      <td>32.687061</td>\n",
              "      <td>3.526</td>\n",
              "      <td>216.603308</td>\n",
              "      <td>6.529</td>\n",
              "      <td>False</td>\n",
              "    </tr>\n",
              "    <tr>\n",
              "      <th>1</th>\n",
              "      <td>21</td>\n",
              "      <td>False</td>\n",
              "      <td>59.608361</td>\n",
              "      <td>3.594</td>\n",
              "      <td>214.744111</td>\n",
              "      <td>7.931</td>\n",
              "      <td>False</td>\n",
              "    </tr>\n",
              "    <tr>\n",
              "      <th>2</th>\n",
              "      <td>9</td>\n",
              "      <td>False</td>\n",
              "      <td>16.623822</td>\n",
              "      <td>3.290</td>\n",
              "      <td>223.806053</td>\n",
              "      <td>5.667</td>\n",
              "      <td>False</td>\n",
              "    </tr>\n",
              "    <tr>\n",
              "      <th>3</th>\n",
              "      <td>6</td>\n",
              "      <td>False</td>\n",
              "      <td>36.466380</td>\n",
              "      <td>3.684</td>\n",
              "      <td>217.083989</td>\n",
              "      <td>6.925</td>\n",
              "      <td>False</td>\n",
              "    </tr>\n",
              "    <tr>\n",
              "      <th>4</th>\n",
              "      <td>17</td>\n",
              "      <td>False</td>\n",
              "      <td>92.396503</td>\n",
              "      <td>3.186</td>\n",
              "      <td>129.984548</td>\n",
              "      <td>6.617</td>\n",
              "      <td>False</td>\n",
              "    </tr>\n",
              "    <tr>\n",
              "      <th>5</th>\n",
              "      <td>31</td>\n",
              "      <td>False</td>\n",
              "      <td>43.412585</td>\n",
              "      <td>3.620</td>\n",
              "      <td>221.808352</td>\n",
              "      <td>6.565</td>\n",
              "      <td>False</td>\n",
              "    </tr>\n",
              "    <tr>\n",
              "      <th>6</th>\n",
              "      <td>21</td>\n",
              "      <td>False</td>\n",
              "      <td>52.963927</td>\n",
              "      <td>2.720</td>\n",
              "      <td>210.873332</td>\n",
              "      <td>8.324</td>\n",
              "      <td>False</td>\n",
              "    </tr>\n",
              "    <tr>\n",
              "      <th>7</th>\n",
              "      <td>4</td>\n",
              "      <td>False</td>\n",
              "      <td>74.145519</td>\n",
              "      <td>3.371</td>\n",
              "      <td>129.606067</td>\n",
              "      <td>5.644</td>\n",
              "      <td>False</td>\n",
              "    </tr>\n",
              "    <tr>\n",
              "      <th>8</th>\n",
              "      <td>20</td>\n",
              "      <td>False</td>\n",
              "      <td>26.041172</td>\n",
              "      <td>3.141</td>\n",
              "      <td>204.637673</td>\n",
              "      <td>7.484</td>\n",
              "      <td>False</td>\n",
              "    </tr>\n",
              "    <tr>\n",
              "      <th>9</th>\n",
              "      <td>22</td>\n",
              "      <td>False</td>\n",
              "      <td>28.162576</td>\n",
              "      <td>4.034</td>\n",
              "      <td>138.678283</td>\n",
              "      <td>8.252</td>\n",
              "      <td>False</td>\n",
              "    </tr>\n",
              "    <tr>\n",
              "      <th>10</th>\n",
              "      <td>3</td>\n",
              "      <td>False</td>\n",
              "      <td>87.287100</td>\n",
              "      <td>3.501</td>\n",
              "      <td>225.251831</td>\n",
              "      <td>6.664</td>\n",
              "      <td>False</td>\n",
              "    </tr>\n",
              "    <tr>\n",
              "      <th>11</th>\n",
              "      <td>40</td>\n",
              "      <td>False</td>\n",
              "      <td>32.901161</td>\n",
              "      <td>3.684</td>\n",
              "      <td>136.419500</td>\n",
              "      <td>4.584</td>\n",
              "      <td>False</td>\n",
              "    </tr>\n",
              "    <tr>\n",
              "      <th>12</th>\n",
              "      <td>15</td>\n",
              "      <td>False</td>\n",
              "      <td>13.863387</td>\n",
              "      <td>3.400</td>\n",
              "      <td>133.183419</td>\n",
              "      <td>7.771</td>\n",
              "      <td>False</td>\n",
              "    </tr>\n",
              "    <tr>\n",
              "      <th>13</th>\n",
              "      <td>41</td>\n",
              "      <td>False</td>\n",
              "      <td>82.433748</td>\n",
              "      <td>2.973</td>\n",
              "      <td>191.573192</td>\n",
              "      <td>7.241</td>\n",
              "      <td>False</td>\n",
              "    </tr>\n",
              "    <tr>\n",
              "      <th>14</th>\n",
              "      <td>7</td>\n",
              "      <td>False</td>\n",
              "      <td>18.991381</td>\n",
              "      <td>3.686</td>\n",
              "      <td>199.219532</td>\n",
              "      <td>7.557</td>\n",
              "      <td>False</td>\n",
              "    </tr>\n",
              "    <tr>\n",
              "      <th>15</th>\n",
              "      <td>35</td>\n",
              "      <td>False</td>\n",
              "      <td>47.289898</td>\n",
              "      <td>3.953</td>\n",
              "      <td>141.699086</td>\n",
              "      <td>8.744</td>\n",
              "      <td>False</td>\n",
              "    </tr>\n",
              "    <tr>\n",
              "      <th>16</th>\n",
              "      <td>37</td>\n",
              "      <td>False</td>\n",
              "      <td>40.998177</td>\n",
              "      <td>3.297</td>\n",
              "      <td>216.721737</td>\n",
              "      <td>7.716</td>\n",
              "      <td>False</td>\n",
              "    </tr>\n",
              "    <tr>\n",
              "      <th>17</th>\n",
              "      <td>41</td>\n",
              "      <td>False</td>\n",
              "      <td>78.219679</td>\n",
              "      <td>3.031</td>\n",
              "      <td>196.872892</td>\n",
              "      <td>6.589</td>\n",
              "      <td>False</td>\n",
              "    </tr>\n",
              "    <tr>\n",
              "      <th>18</th>\n",
              "      <td>34</td>\n",
              "      <td>False</td>\n",
              "      <td>26.881639</td>\n",
              "      <td>3.286</td>\n",
              "      <td>129.816710</td>\n",
              "      <td>10.148</td>\n",
              "      <td>False</td>\n",
              "    </tr>\n",
              "    <tr>\n",
              "      <th>19</th>\n",
              "      <td>23</td>\n",
              "      <td>False</td>\n",
              "      <td>26.845899</td>\n",
              "      <td>4.027</td>\n",
              "      <td>138.825600</td>\n",
              "      <td>4.145</td>\n",
              "      <td>False</td>\n",
              "    </tr>\n",
              "    <tr>\n",
              "      <th>20</th>\n",
              "      <td>44</td>\n",
              "      <td>False</td>\n",
              "      <td>94.118798</td>\n",
              "      <td>3.732</td>\n",
              "      <td>129.035710</td>\n",
              "      <td>6.906</td>\n",
              "      <td>False</td>\n",
              "    </tr>\n",
              "    <tr>\n",
              "      <th>21</th>\n",
              "      <td>27</td>\n",
              "      <td>True</td>\n",
              "      <td>99.921138</td>\n",
              "      <td>3.826</td>\n",
              "      <td>141.119983</td>\n",
              "      <td>8.009</td>\n",
              "      <td>True</td>\n",
              "    </tr>\n",
              "    <tr>\n",
              "      <th>22</th>\n",
              "      <td>37</td>\n",
              "      <td>False</td>\n",
              "      <td>37.803007</td>\n",
              "      <td>2.732</td>\n",
              "      <td>209.787093</td>\n",
              "      <td>8.554</td>\n",
              "      <td>False</td>\n",
              "    </tr>\n",
              "    <tr>\n",
              "      <th>23</th>\n",
              "      <td>26</td>\n",
              "      <td>False</td>\n",
              "      <td>0.002665</td>\n",
              "      <td>3.568</td>\n",
              "      <td>136.959839</td>\n",
              "      <td>7.467</td>\n",
              "      <td>False</td>\n",
              "    </tr>\n",
              "    <tr>\n",
              "      <th>24</th>\n",
              "      <td>38</td>\n",
              "      <td>False</td>\n",
              "      <td>79.670915</td>\n",
              "      <td>3.541</td>\n",
              "      <td>129.984548</td>\n",
              "      <td>12.890</td>\n",
              "      <td>False</td>\n",
              "    </tr>\n",
              "    <tr>\n",
              "      <th>25</th>\n",
              "      <td>29</td>\n",
              "      <td>False</td>\n",
              "      <td>34.904169</td>\n",
              "      <td>3.561</td>\n",
              "      <td>138.263000</td>\n",
              "      <td>9.419</td>\n",
              "      <td>False</td>\n",
              "    </tr>\n",
              "    <tr>\n",
              "      <th>26</th>\n",
              "      <td>29</td>\n",
              "      <td>False</td>\n",
              "      <td>98.120004</td>\n",
              "      <td>3.439</td>\n",
              "      <td>136.698129</td>\n",
              "      <td>8.988</td>\n",
              "      <td>False</td>\n",
              "    </tr>\n",
              "    <tr>\n",
              "      <th>27</th>\n",
              "      <td>31</td>\n",
              "      <td>False</td>\n",
              "      <td>98.774804</td>\n",
              "      <td>2.795</td>\n",
              "      <td>210.100065</td>\n",
              "      <td>8.200</td>\n",
              "      <td>False</td>\n",
              "    </tr>\n",
              "    <tr>\n",
              "      <th>28</th>\n",
              "      <td>11</td>\n",
              "      <td>False</td>\n",
              "      <td>97.157213</td>\n",
              "      <td>2.780</td>\n",
              "      <td>213.671682</td>\n",
              "      <td>7.343</td>\n",
              "      <td>False</td>\n",
              "    </tr>\n",
              "    <tr>\n",
              "      <th>29</th>\n",
              "      <td>10</td>\n",
              "      <td>False</td>\n",
              "      <td>74.121840</td>\n",
              "      <td>3.145</td>\n",
              "      <td>126.208548</td>\n",
              "      <td>9.524</td>\n",
              "      <td>False</td>\n",
              "    </tr>\n",
              "    <tr>\n",
              "      <th>30</th>\n",
              "      <td>41</td>\n",
              "      <td>False</td>\n",
              "      <td>90.401020</td>\n",
              "      <td>3.266</td>\n",
              "      <td>195.984169</td>\n",
              "      <td>6.759</td>\n",
              "      <td>False</td>\n",
              "    </tr>\n",
              "    <tr>\n",
              "      <th>31</th>\n",
              "      <td>28</td>\n",
              "      <td>False</td>\n",
              "      <td>71.976634</td>\n",
              "      <td>4.110</td>\n",
              "      <td>131.098323</td>\n",
              "      <td>11.627</td>\n",
              "      <td>False</td>\n",
              "    </tr>\n",
              "    <tr>\n",
              "      <th>32</th>\n",
              "      <td>18</td>\n",
              "      <td>False</td>\n",
              "      <td>57.922620</td>\n",
              "      <td>3.150</td>\n",
              "      <td>132.747742</td>\n",
              "      <td>9.331</td>\n",
              "      <td>False</td>\n",
              "    </tr>\n",
              "    <tr>\n",
              "      <th>33</th>\n",
              "      <td>23</td>\n",
              "      <td>False</td>\n",
              "      <td>27.618366</td>\n",
              "      <td>3.604</td>\n",
              "      <td>136.488452</td>\n",
              "      <td>4.420</td>\n",
              "      <td>False</td>\n",
              "    </tr>\n",
              "    <tr>\n",
              "      <th>34</th>\n",
              "      <td>23</td>\n",
              "      <td>False</td>\n",
              "      <td>0.345076</td>\n",
              "      <td>4.000</td>\n",
              "      <td>138.833613</td>\n",
              "      <td>4.145</td>\n",
              "      <td>False</td>\n",
              "    </tr>\n",
              "    <tr>\n",
              "      <th>35</th>\n",
              "      <td>11</td>\n",
              "      <td>False</td>\n",
              "      <td>2.730256</td>\n",
              "      <td>3.899</td>\n",
              "      <td>219.368356</td>\n",
              "      <td>7.574</td>\n",
              "      <td>False</td>\n",
              "    </tr>\n",
              "    <tr>\n",
              "      <th>36</th>\n",
              "      <td>26</td>\n",
              "      <td>False</td>\n",
              "      <td>93.180058</td>\n",
              "      <td>4.018</td>\n",
              "      <td>138.739500</td>\n",
              "      <td>7.405</td>\n",
              "      <td>False</td>\n",
              "    </tr>\n",
              "    <tr>\n",
              "      <th>37</th>\n",
              "      <td>34</td>\n",
              "      <td>False</td>\n",
              "      <td>65.538864</td>\n",
              "      <td>2.992</td>\n",
              "      <td>127.300935</td>\n",
              "      <td>10.398</td>\n",
              "      <td>False</td>\n",
              "    </tr>\n",
              "    <tr>\n",
              "      <th>38</th>\n",
              "      <td>6</td>\n",
              "      <td>False</td>\n",
              "      <td>80.894845</td>\n",
              "      <td>3.638</td>\n",
              "      <td>217.143828</td>\n",
              "      <td>6.925</td>\n",
              "      <td>False</td>\n",
              "    </tr>\n",
              "    <tr>\n",
              "      <th>39</th>\n",
              "      <td>3</td>\n",
              "      <td>False</td>\n",
              "      <td>85.106935</td>\n",
              "      <td>3.407</td>\n",
              "      <td>225.453758</td>\n",
              "      <td>6.334</td>\n",
              "      <td>False</td>\n",
              "    </tr>\n",
              "    <tr>\n",
              "      <th>40</th>\n",
              "      <td>29</td>\n",
              "      <td>False</td>\n",
              "      <td>1.941136</td>\n",
              "      <td>2.796</td>\n",
              "      <td>132.661613</td>\n",
              "      <td>10.409</td>\n",
              "      <td>False</td>\n",
              "    </tr>\n",
              "    <tr>\n",
              "      <th>41</th>\n",
              "      <td>38</td>\n",
              "      <td>False</td>\n",
              "      <td>98.616371</td>\n",
              "      <td>3.430</td>\n",
              "      <td>127.995250</td>\n",
              "      <td>14.021</td>\n",
              "      <td>False</td>\n",
              "    </tr>\n",
              "    <tr>\n",
              "      <th>42</th>\n",
              "      <td>25</td>\n",
              "      <td>False</td>\n",
              "      <td>28.589517</td>\n",
              "      <td>3.742</td>\n",
              "      <td>209.189389</td>\n",
              "      <td>7.274</td>\n",
              "      <td>False</td>\n",
              "    </tr>\n",
              "    <tr>\n",
              "      <th>43</th>\n",
              "      <td>13</td>\n",
              "      <td>False</td>\n",
              "      <td>53.346024</td>\n",
              "      <td>3.120</td>\n",
              "      <td>128.130000</td>\n",
              "      <td>7.470</td>\n",
              "      <td>False</td>\n",
              "    </tr>\n",
              "    <tr>\n",
              "      <th>44</th>\n",
              "      <td>18</td>\n",
              "      <td>False</td>\n",
              "      <td>-0.149522</td>\n",
              "      <td>3.638</td>\n",
              "      <td>134.068258</td>\n",
              "      <td>8.975</td>\n",
              "      <td>False</td>\n",
              "    </tr>\n",
              "    <tr>\n",
              "      <th>45</th>\n",
              "      <td>36</td>\n",
              "      <td>False</td>\n",
              "      <td>82.970891</td>\n",
              "      <td>2.971</td>\n",
              "      <td>210.237973</td>\n",
              "      <td>8.395</td>\n",
              "      <td>False</td>\n",
              "    </tr>\n",
              "    <tr>\n",
              "      <th>46</th>\n",
              "      <td>8</td>\n",
              "      <td>False</td>\n",
              "      <td>36.136754</td>\n",
              "      <td>3.159</td>\n",
              "      <td>222.691096</td>\n",
              "      <td>6.123</td>\n",
              "      <td>False</td>\n",
              "    </tr>\n",
              "    <tr>\n",
              "      <th>47</th>\n",
              "      <td>4</td>\n",
              "      <td>False</td>\n",
              "      <td>85.333454</td>\n",
              "      <td>3.504</td>\n",
              "      <td>129.089400</td>\n",
              "      <td>5.644</td>\n",
              "      <td>False</td>\n",
              "    </tr>\n",
              "    <tr>\n",
              "      <th>48</th>\n",
              "      <td>7</td>\n",
              "      <td>False</td>\n",
              "      <td>92.484757</td>\n",
              "      <td>3.008</td>\n",
              "      <td>191.667891</td>\n",
              "      <td>8.818</td>\n",
              "      <td>False</td>\n",
              "    </tr>\n",
              "    <tr>\n",
              "      <th>49</th>\n",
              "      <td>45</td>\n",
              "      <td>False</td>\n",
              "      <td>5.215949</td>\n",
              "      <td>2.958</td>\n",
              "      <td>181.853849</td>\n",
              "      <td>8.899</td>\n",
              "      <td>False</td>\n",
              "    </tr>\n",
              "  </tbody>\n",
              "</table>\n",
              "</div>"
            ],
            "text/plain": [
              "    Store  IsHoliday_x  Temperature  ...         CPI  Unemployment  IsHoliday_y\n",
              "0       5        False    32.687061  ...  216.603308         6.529        False\n",
              "1      21        False    59.608361  ...  214.744111         7.931        False\n",
              "2       9        False    16.623822  ...  223.806053         5.667        False\n",
              "3       6        False    36.466380  ...  217.083989         6.925        False\n",
              "4      17        False    92.396503  ...  129.984548         6.617        False\n",
              "5      31        False    43.412585  ...  221.808352         6.565        False\n",
              "6      21        False    52.963927  ...  210.873332         8.324        False\n",
              "7       4        False    74.145519  ...  129.606067         5.644        False\n",
              "8      20        False    26.041172  ...  204.637673         7.484        False\n",
              "9      22        False    28.162576  ...  138.678283         8.252        False\n",
              "10      3        False    87.287100  ...  225.251831         6.664        False\n",
              "11     40        False    32.901161  ...  136.419500         4.584        False\n",
              "12     15        False    13.863387  ...  133.183419         7.771        False\n",
              "13     41        False    82.433748  ...  191.573192         7.241        False\n",
              "14      7        False    18.991381  ...  199.219532         7.557        False\n",
              "15     35        False    47.289898  ...  141.699086         8.744        False\n",
              "16     37        False    40.998177  ...  216.721737         7.716        False\n",
              "17     41        False    78.219679  ...  196.872892         6.589        False\n",
              "18     34        False    26.881639  ...  129.816710        10.148        False\n",
              "19     23        False    26.845899  ...  138.825600         4.145        False\n",
              "20     44        False    94.118798  ...  129.035710         6.906        False\n",
              "21     27         True    99.921138  ...  141.119983         8.009         True\n",
              "22     37        False    37.803007  ...  209.787093         8.554        False\n",
              "23     26        False     0.002665  ...  136.959839         7.467        False\n",
              "24     38        False    79.670915  ...  129.984548        12.890        False\n",
              "25     29        False    34.904169  ...  138.263000         9.419        False\n",
              "26     29        False    98.120004  ...  136.698129         8.988        False\n",
              "27     31        False    98.774804  ...  210.100065         8.200        False\n",
              "28     11        False    97.157213  ...  213.671682         7.343        False\n",
              "29     10        False    74.121840  ...  126.208548         9.524        False\n",
              "30     41        False    90.401020  ...  195.984169         6.759        False\n",
              "31     28        False    71.976634  ...  131.098323        11.627        False\n",
              "32     18        False    57.922620  ...  132.747742         9.331        False\n",
              "33     23        False    27.618366  ...  136.488452         4.420        False\n",
              "34     23        False     0.345076  ...  138.833613         4.145        False\n",
              "35     11        False     2.730256  ...  219.368356         7.574        False\n",
              "36     26        False    93.180058  ...  138.739500         7.405        False\n",
              "37     34        False    65.538864  ...  127.300935        10.398        False\n",
              "38      6        False    80.894845  ...  217.143828         6.925        False\n",
              "39      3        False    85.106935  ...  225.453758         6.334        False\n",
              "40     29        False     1.941136  ...  132.661613        10.409        False\n",
              "41     38        False    98.616371  ...  127.995250        14.021        False\n",
              "42     25        False    28.589517  ...  209.189389         7.274        False\n",
              "43     13        False    53.346024  ...  128.130000         7.470        False\n",
              "44     18        False    -0.149522  ...  134.068258         8.975        False\n",
              "45     36        False    82.970891  ...  210.237973         8.395        False\n",
              "46      8        False    36.136754  ...  222.691096         6.123        False\n",
              "47      4        False    85.333454  ...  129.089400         5.644        False\n",
              "48      7        False    92.484757  ...  191.667891         8.818        False\n",
              "49     45        False     5.215949  ...  181.853849         8.899        False\n",
              "\n",
              "[50 rows x 7 columns]"
            ]
          },
          "metadata": {},
          "execution_count": 392
        }
      ]
    },
    {
      "cell_type": "code",
      "metadata": {
        "id": "doxqVfQxRs-L"
      },
      "source": [
        "x=x.values #se convierte en un array\n",
        "y=df[\"Weekly_Sales\"].values #las ventas semanales como la variable objetivo\n",
        "#Esto divide las 50 observaciones en 35 (70%) de entrenamiento, y 15 (30%) de testeo\n",
        "xEntreno, xTest, yEntreno, yTest = train_test_split(x, y, test_size=0.3, random_state=0,shuffle=True)\n"
      ],
      "execution_count": 308,
      "outputs": []
    },
    {
      "cell_type": "code",
      "metadata": {
        "colab": {
          "base_uri": "https://localhost:8080/"
        },
        "id": "-EeEs9aMAcZ4",
        "outputId": "f10bcee1-4f7d-4897-b6d8-2023200fa70e"
      },
      "source": [
        "escala = MinMaxScaler()\n",
        "print(escala)\n",
        "#esto crea un rango entre 0 y en el que se puedan normalizar las caracteristicas"
      ],
      "execution_count": 388,
      "outputs": [
        {
          "output_type": "stream",
          "text": [
            "MinMaxScaler(copy=True, feature_range=(0, 1))\n"
          ],
          "name": "stdout"
        }
      ]
    },
    {
      "cell_type": "markdown",
      "metadata": {
        "id": "l6IQ9kjJAuae"
      },
      "source": [
        "Esto transforma en las caracteristicas en escalas que van de cero a uno, para su normalización"
      ]
    },
    {
      "cell_type": "code",
      "metadata": {
        "id": "CjbLqwPiDNvv"
      },
      "source": [
        "xEntreno = escala.fit_transform(xEntreno)\n",
        "xTest=escala.transform(xTest)"
      ],
      "execution_count": 389,
      "outputs": []
    },
    {
      "cell_type": "markdown",
      "metadata": {
        "id": "eHYSJpDdGSW4"
      },
      "source": [
        "Aplicación del KNN"
      ]
    },
    {
      "cell_type": "markdown",
      "metadata": {
        "id": "CF0R68jG7SfU"
      },
      "source": [
        "Se toma a priori como paramatreo los tres vecinos más cercanos"
      ]
    },
    {
      "cell_type": "code",
      "metadata": {
        "colab": {
          "base_uri": "https://localhost:8080/"
        },
        "id": "4fK34qlD6zvo",
        "outputId": "b5659dba-a396-4101-87ae-64106304ee15"
      },
      "source": [
        "nvecinos=3\n",
        "KNN = KNeighborsRegressor(n_neighbors=nvecinos)\n",
        "KNN.fit(xEntreno,yEntreno)"
      ],
      "execution_count": 394,
      "outputs": [
        {
          "output_type": "execute_result",
          "data": {
            "text/plain": [
              "KNeighborsRegressor(algorithm='auto', leaf_size=30, metric='minkowski',\n",
              "                    metric_params=None, n_jobs=None, n_neighbors=3, p=2,\n",
              "                    weights='uniform')"
            ]
          },
          "metadata": {},
          "execution_count": 394
        }
      ]
    },
    {
      "cell_type": "markdown",
      "metadata": {
        "id": "gGtjq75l7pMN"
      },
      "source": [
        "Predicción con los datos de entrenamiento"
      ]
    },
    {
      "cell_type": "code",
      "metadata": {
        "colab": {
          "base_uri": "https://localhost:8080/",
          "height": 283
        },
        "id": "sTdR5vCS62Tw",
        "outputId": "c93582ad-b194-46ed-ec2c-b442d76d8e2c"
      },
      "source": [
        "import matplotlib.pyplot as plt\n",
        "p11 = KNN.predict(xTest) #predicción\n",
        "plt.plot(p11)\n",
        "plt.plot(yTest, color=\"green\")"
      ],
      "execution_count": 395,
      "outputs": [
        {
          "output_type": "execute_result",
          "data": {
            "text/plain": [
              "[<matplotlib.lines.Line2D at 0x7fd01fca7290>]"
            ]
          },
          "metadata": {},
          "execution_count": 395
        },
        {
          "output_type": "display_data",
          "data": {
            "image/png": "[encoded data removed]",
            "text/plain": [
              "<Figure size 432x288 with 1 Axes>"
            ]
          },
          "metadata": {
            "needs_background": "light"
          }
        }
      ]
    },
    {
      "cell_type": "markdown",
      "metadata": {
        "id": "heea39458Dgy"
      },
      "source": [
        "La anterior grafica muestra los valores prdichos en azul vrs los valores observados en verde"
      ]
    },
    {
      "cell_type": "markdown",
      "metadata": {
        "id": "FbzcpEQY8JK9"
      },
      "source": [
        "Determinar el error"
      ]
    },
    {
      "cell_type": "code",
      "metadata": {
        "colab": {
          "base_uri": "https://localhost:8080/"
        },
        "id": "2Oex1eHn7MoC",
        "outputId": "0d633c9c-99e1-4ab6-e855-7bd1f5ba9881"
      },
      "source": [
        "from sklearn.metrics import mean_squared_error\n",
        "from math import sqrt\n",
        "#promedio del error al cuadrado\n",
        "cem1=mean_squared_error(yTest,p11)\n",
        "#raiz\n",
        "rcem1=sqrt(cem1)\n",
        "rcem1"
      ],
      "execution_count": 398,
      "outputs": [
        {
          "output_type": "execute_result",
          "data": {
            "text/plain": [
              "176797.80579124912"
            ]
          },
          "metadata": {},
          "execution_count": 398
        }
      ]
    },
    {
      "cell_type": "markdown",
      "metadata": {
        "id": "jLGQ-2Vt4jzz"
      },
      "source": [
        "raiz  del error al cuadrado medio es 176797.80579124912"
      ]
    },
    {
      "cell_type": "markdown",
      "metadata": {
        "id": "COrR7ZMH5iJk"
      },
      "source": [
        "Determinar el número de vecinos optimos, con un ajuste de 1 a 20 vecinos"
      ]
    },
    {
      "cell_type": "code",
      "metadata": {
        "colab": {
          "base_uri": "https://localhost:8080/"
        },
        "id": "Y3jsvxb82yI_",
        "outputId": "55ed201f-1a72-43ce-a515-0d93050f528d"
      },
      "source": [
        " parametros = {\"n_neighbors\": range(1, 20)}\n",
        " gr= GridSearchCV(KNeighborsRegressor(), parametros)\n",
        " gr.fit(xEntreno, yEntreno)"
      ],
      "execution_count": 401,
      "outputs": [
        {
          "output_type": "execute_result",
          "data": {
            "text/plain": [
              "GridSearchCV(cv=None, error_score=nan,\n",
              "             estimator=KNeighborsRegressor(algorithm='auto', leaf_size=30,\n",
              "                                           metric='minkowski',\n",
              "                                           metric_params=None, n_jobs=None,\n",
              "                                           n_neighbors=5, p=2,\n",
              "                                           weights='uniform'),\n",
              "             iid='deprecated', n_jobs=None,\n",
              "             param_grid={'n_neighbors': range(1, 20)}, pre_dispatch='2*n_jobs',\n",
              "             refit=True, return_train_score=False, scoring=None, verbose=0)"
            ]
          },
          "metadata": {},
          "execution_count": 401
        }
      ]
    },
    {
      "cell_type": "code",
      "metadata": {
        "colab": {
          "base_uri": "https://localhost:8080/"
        },
        "id": "850rcCCW4byQ",
        "outputId": "a1f08396-a6db-43f8-a70f-27fd4c15fdc4"
      },
      "source": [
        "gr.best_params_"
      ],
      "execution_count": 402,
      "outputs": [
        {
          "output_type": "execute_result",
          "data": {
            "text/plain": [
              "{'n_neighbors': 16}"
            ]
          },
          "metadata": {},
          "execution_count": 402
        }
      ]
    },
    {
      "cell_type": "markdown",
      "metadata": {
        "id": "J2JgCs0O5ugr"
      },
      "source": [
        "El mejor paramentro es 16 vecinos"
      ]
    },
    {
      "cell_type": "code",
      "metadata": {
        "colab": {
          "base_uri": "https://localhost:8080/"
        },
        "id": "9tO0U0z_GnD2",
        "outputId": "add6dafe-36de-473f-e3c0-e1ca148a225e"
      },
      "source": [
        "nvecinos=16\n",
        "KNN2 = KNeighborsRegressor(n_neighbors=nvecinos)\n",
        "KNN2.fit(xEntreno,yEntreno)"
      ],
      "execution_count": 348,
      "outputs": [
        {
          "output_type": "execute_result",
          "data": {
            "text/plain": [
              "KNeighborsRegressor(algorithm='auto', leaf_size=30, metric='minkowski',\n",
              "                    metric_params=None, n_jobs=None, n_neighbors=16, p=2,\n",
              "                    weights='uniform')"
            ]
          },
          "metadata": {},
          "execution_count": 348
        }
      ]
    },
    {
      "cell_type": "markdown",
      "metadata": {
        "id": "LANckiRgtbzj"
      },
      "source": [
        "Las predicciones con los datos de entrenamiento"
      ]
    },
    {
      "cell_type": "code",
      "metadata": {
        "colab": {
          "base_uri": "https://localhost:8080/",
          "height": 283
        },
        "id": "i4_DG8jYtJM6",
        "outputId": "2359797a-c940-4de8-f64a-4d5e030dc605"
      },
      "source": [
        "p12 = KNN2.predict(xTest) #predicción\n",
        "plt.plot(p12)\n",
        "plt.plot(yTest, color=\"green\")"
      ],
      "execution_count": 403,
      "outputs": [
        {
          "output_type": "execute_result",
          "data": {
            "text/plain": [
              "[<matplotlib.lines.Line2D at 0x7fd01f680f10>]"
            ]
          },
          "metadata": {},
          "execution_count": 403
        },
        {
          "output_type": "display_data",
          "data": {
            "image/png": "[encoded data removed]",
            "text/plain": [
              "<Figure size 432x288 with 1 Axes>"
            ]
          },
          "metadata": {
            "needs_background": "light"
          }
        }
      ]
    },
    {
      "cell_type": "markdown",
      "metadata": {
        "id": "2iqEtBLj7417"
      },
      "source": [
        "La anterior grafica muestra los valores prdichos en azul vrs los valores observados en verde"
      ]
    },
    {
      "cell_type": "code",
      "metadata": {
        "colab": {
          "base_uri": "https://localhost:8080/"
        },
        "id": "rdg5yiIHtAhU",
        "outputId": "c9e0493e-f16c-4806-c8a8-914619401864"
      },
      "source": [
        "#promedio del error cuadrado\n",
        "cem2=mean_squared_error(yTest,p12)\n",
        "#raiz\n",
        "rcem2=sqrt(cem2)\n",
        "rcem2"
      ],
      "execution_count": 404,
      "outputs": [
        {
          "output_type": "execute_result",
          "data": {
            "text/plain": [
              "182620.7316868306"
            ]
          },
          "metadata": {},
          "execution_count": 404
        }
      ]
    },
    {
      "cell_type": "markdown",
      "metadata": {
        "id": "dK71Juaj9m_n"
      },
      "source": [
        "raiz cuadrada del error medio 182620.7316868306. Como se ve el error en vez de disminuir aumento, esto se debe a que el número de vecinos es grande para el 70% de los datos"
      ]
    },
    {
      "cell_type": "markdown",
      "metadata": {
        "id": "mWEg7TL79EkP"
      },
      "source": [
        "Se repite el proceso con de 1 a 10 vecinos"
      ]
    },
    {
      "cell_type": "code",
      "metadata": {
        "colab": {
          "base_uri": "https://localhost:8080/"
        },
        "id": "k7deWEId9Jhl",
        "outputId": "89c1ec79-eaa3-459b-e194-0e3297765705"
      },
      "source": [
        " parametros = {\"n_neighbors\": range(1, 10)}\n",
        " gr= GridSearchCV(KNeighborsRegressor(), parametros)\n",
        " gr.fit(xEntreno, yEntreno)"
      ],
      "execution_count": 405,
      "outputs": [
        {
          "output_type": "execute_result",
          "data": {
            "text/plain": [
              "GridSearchCV(cv=None, error_score=nan,\n",
              "             estimator=KNeighborsRegressor(algorithm='auto', leaf_size=30,\n",
              "                                           metric='minkowski',\n",
              "                                           metric_params=None, n_jobs=None,\n",
              "                                           n_neighbors=5, p=2,\n",
              "                                           weights='uniform'),\n",
              "             iid='deprecated', n_jobs=None,\n",
              "             param_grid={'n_neighbors': range(1, 10)}, pre_dispatch='2*n_jobs',\n",
              "             refit=True, return_train_score=False, scoring=None, verbose=0)"
            ]
          },
          "metadata": {},
          "execution_count": 405
        }
      ]
    },
    {
      "cell_type": "code",
      "metadata": {
        "colab": {
          "base_uri": "https://localhost:8080/"
        },
        "id": "XZi7FlcL9fEw",
        "outputId": "3e834715-9953-44bc-8647-5faf3acaadeb"
      },
      "source": [
        "gr.best_params_"
      ],
      "execution_count": 406,
      "outputs": [
        {
          "output_type": "execute_result",
          "data": {
            "text/plain": [
              "{'n_neighbors': 9}"
            ]
          },
          "metadata": {},
          "execution_count": 406
        }
      ]
    },
    {
      "cell_type": "markdown",
      "metadata": {
        "id": "-sAHkmN3BnJh"
      },
      "source": [
        "En este caso el parametro de vecinos es 9"
      ]
    },
    {
      "cell_type": "code",
      "metadata": {
        "colab": {
          "base_uri": "https://localhost:8080/"
        },
        "id": "mnFU6pil56My",
        "outputId": "db9e3d78-3064-4c02-eb84-0c69ca13b59c"
      },
      "source": [
        "nvecinos=9\n",
        "KNN3 = KNeighborsRegressor(n_neighbors=nvecinos)\n",
        "KNN3.fit(xEntreno,yEntreno)"
      ],
      "execution_count": 407,
      "outputs": [
        {
          "output_type": "execute_result",
          "data": {
            "text/plain": [
              "KNeighborsRegressor(algorithm='auto', leaf_size=30, metric='minkowski',\n",
              "                    metric_params=None, n_jobs=None, n_neighbors=9, p=2,\n",
              "                    weights='uniform')"
            ]
          },
          "metadata": {},
          "execution_count": 407
        }
      ]
    },
    {
      "cell_type": "code",
      "metadata": {
        "colab": {
          "base_uri": "https://localhost:8080/",
          "height": 283
        },
        "id": "eVbx2i3s5_Vf",
        "outputId": "a05364b6-85ce-4c34-fbfc-ce1eed7106ce"
      },
      "source": [
        "p13 = KNN3.predict(xTest) #predicción\n",
        "plt.plot(p13)\n",
        "plt.plot(yTest, color=\"green\")"
      ],
      "execution_count": 410,
      "outputs": [
        {
          "output_type": "execute_result",
          "data": {
            "text/plain": [
              "[<matplotlib.lines.Line2D at 0x7fd01f5e8a10>]"
            ]
          },
          "metadata": {},
          "execution_count": 410
        },
        {
          "output_type": "display_data",
          "data": {
            "image/png": "[encoded data removed]",
            "text/plain": [
              "<Figure size 432x288 with 1 Axes>"
            ]
          },
          "metadata": {
            "needs_background": "light"
          }
        }
      ]
    },
    {
      "cell_type": "markdown",
      "metadata": {
        "id": "3AfH9QyZ9tSm"
      },
      "source": [
        "Como se ve la predicción un poco ajusta mejor, el azul son los valores predichos, mientras los verdes son los observados"
      ]
    },
    {
      "cell_type": "code",
      "metadata": {
        "colab": {
          "base_uri": "https://localhost:8080/"
        },
        "id": "eiF75gfb6BZX",
        "outputId": "a68ca8d8-5bca-404f-f762-fd07c3ff9d4e"
      },
      "source": [
        "#promedio del error cuadrado\n",
        "cem3=mean_squared_error(yTest,p13)\n",
        "#raiz\n",
        "rcem3=sqrt(cem3)\n",
        "rcem3"
      ],
      "execution_count": 411,
      "outputs": [
        {
          "output_type": "execute_result",
          "data": {
            "text/plain": [
              "169838.7148244125"
            ]
          },
          "metadata": {},
          "execution_count": 411
        }
      ]
    },
    {
      "cell_type": "markdown",
      "metadata": {
        "id": "vuDrhKss94dv"
      },
      "source": [
        "Además la raiz cuadrada del error se reduce un poco"
      ]
    },
    {
      "cell_type": "markdown",
      "metadata": {
        "id": "_pbm6O6QeGZ8"
      },
      "source": [
        "Randon Forest"
      ]
    },
    {
      "cell_type": "code",
      "metadata": {
        "colab": {
          "base_uri": "https://localhost:8080/"
        },
        "id": "qjBy636qeItd",
        "outputId": "d599446f-2c1b-4e8b-c17f-b8db5c35c9d9"
      },
      "source": [
        "#se hace la importación necesaria\n",
        "from sklearn.ensemble import RandomForestRegressor\n",
        "#se establecen los parametros del modelo. Se estima 100 arboles donde el criterio es el error medio al cuadrado, y no se limita el largo del arbol\n",
        "RDF = RandomForestRegressor(n_estimators=100, criterion=\"mse\", bootstrap = True, verbose=2,max_features = 'sqrt', random_state=0)\n",
        "RDF.fit(xEntreno, yEntreno)"
      ],
      "execution_count": 419,
      "outputs": [
        {
          "output_type": "stream",
          "text": [
            "building tree 1 of 100\n",
            "building tree 2 of 100\n",
            "building tree 3 of 100\n",
            "building tree 4 of 100\n",
            "building tree 5 of 100\n",
            "building tree 6 of 100\n",
            "building tree 7 of 100\n",
            "building tree 8 of 100\n",
            "building tree 9 of 100\n",
            "building tree 10 of 100\n",
            "building tree 11 of 100\n",
            "building tree 12 of 100\n",
            "building tree 13 of 100\n",
            "building tree 14 of 100\n",
            "building tree 15 of 100\n",
            "building tree 16 of 100\n",
            "building tree 17 of 100\n",
            "building tree 18 of 100\n",
            "building tree 19 of 100\n",
            "building tree 20 of 100\n",
            "building tree 21 of 100\n",
            "building tree 22 of 100\n",
            "building tree 23 of 100\n",
            "building tree 24 of 100\n",
            "building tree 25 of 100\n",
            "building tree 26 of 100\n",
            "building tree 27 of 100\n",
            "building tree 28 of 100\n",
            "building tree 29 of 100\n",
            "building tree 30 of 100\n",
            "building tree 31 of 100\n",
            "building tree 32 of 100\n",
            "building tree 33 of 100\n",
            "building tree 34 of 100\n",
            "building tree 35 of 100\n",
            "building tree 36 of 100\n",
            "building tree 37 of 100\n",
            "building tree 38 of 100\n",
            "building tree 39 of 100\n",
            "building tree 40 of 100\n",
            "building tree 41 of 100\n",
            "building tree 42 of 100\n",
            "building tree 43 of 100\n",
            "building tree 44 of 100\n",
            "building tree 45 of 100\n",
            "building tree 46 of 100\n",
            "building tree 47 of 100\n",
            "building tree 48 of 100\n",
            "building tree 49 of 100\n",
            "building tree 50 of 100\n",
            "building tree 51 of 100\n",
            "building tree 52 of 100\n",
            "building tree 53 of 100\n",
            "building tree 54 of 100\n",
            "building tree 55 of 100\n",
            "building tree 56 of 100\n",
            "building tree 57 of 100\n",
            "building tree 58 of 100\n",
            "building tree 59 of 100\n",
            "building tree 60 of 100\n",
            "building tree 61 of 100\n",
            "building tree 62 of 100\n",
            "building tree 63 of 100\n",
            "building tree 64 of 100\n",
            "building tree 65 of 100\n",
            "building tree 66 of 100\n",
            "building tree 67 of 100\n",
            "building tree 68 of 100\n",
            "building tree 69 of 100\n",
            "building tree 70 of 100\n",
            "building tree 71 of 100\n",
            "building tree 72 of 100\n",
            "building tree 73 of 100\n",
            "building tree 74 of 100\n",
            "building tree 75 of 100\n",
            "building tree 76 of 100\n",
            "building tree 77 of 100\n",
            "building tree 78 of 100\n",
            "building tree 79 of 100\n",
            "building tree 80 of 100\n",
            "building tree 81 of 100\n",
            "building tree 82 of 100\n",
            "building tree 83 of 100\n",
            "building tree 84 of 100\n",
            "building tree 85 of 100\n",
            "building tree 86 of 100\n",
            "building tree 87 of 100\n",
            "building tree 88 of 100\n",
            "building tree 89 of 100\n",
            "building tree 90 of 100\n",
            "building tree 91 of 100\n",
            "building tree 92 of 100\n",
            "building tree 93 of 100\n",
            "building tree 94 of 100\n",
            "building tree 95 of 100\n",
            "building tree 96 of 100\n",
            "building tree 97 of 100\n",
            "building tree 98 of 100\n",
            "building tree 99 of 100\n",
            "building tree 100 of 100\n"
          ],
          "name": "stdout"
        },
        {
          "output_type": "stream",
          "text": [
            "[Parallel(n_jobs=1)]: Using backend SequentialBackend with 1 concurrent workers.\n",
            "[Parallel(n_jobs=1)]: Done   1 out of   1 | elapsed:    0.0s remaining:    0.0s\n",
            "[Parallel(n_jobs=1)]: Done 100 out of 100 | elapsed:    0.2s finished\n"
          ],
          "name": "stderr"
        },
        {
          "output_type": "execute_result",
          "data": {
            "text/plain": [
              "RandomForestRegressor(bootstrap=True, ccp_alpha=0.0, criterion='mse',\n",
              "                      max_depth=None, max_features='sqrt', max_leaf_nodes=None,\n",
              "                      max_samples=None, min_impurity_decrease=0.0,\n",
              "                      min_impurity_split=None, min_samples_leaf=1,\n",
              "                      min_samples_split=2, min_weight_fraction_leaf=0.0,\n",
              "                      n_estimators=100, n_jobs=None, oob_score=False,\n",
              "                      random_state=0, verbose=2, warm_start=False)"
            ]
          },
          "metadata": {},
          "execution_count": 419
        }
      ]
    },
    {
      "cell_type": "code",
      "metadata": {
        "colab": {
          "base_uri": "https://localhost:8080/",
          "height": 335
        },
        "id": "jbtRj1LL3S-_",
        "outputId": "4f8723c7-0321-4fa1-b7f3-6e073cda5844"
      },
      "source": [
        "#predicción\n",
        "p21=RDF.predict(xTest)\n",
        "plt.plot(p21)\n",
        "plt.plot(yTest, color=\"green\")"
      ],
      "execution_count": 413,
      "outputs": [
        {
          "output_type": "stream",
          "text": [
            "[Parallel(n_jobs=1)]: Using backend SequentialBackend with 1 concurrent workers.\n",
            "[Parallel(n_jobs=1)]: Done   1 out of   1 | elapsed:    0.0s remaining:    0.0s\n",
            "[Parallel(n_jobs=1)]: Done 100 out of 100 | elapsed:    0.0s finished\n"
          ],
          "name": "stderr"
        },
        {
          "output_type": "execute_result",
          "data": {
            "text/plain": [
              "[<matplotlib.lines.Line2D at 0x7fd01f56c750>]"
            ]
          },
          "metadata": {},
          "execution_count": 413
        },
        {
          "output_type": "display_data",
          "data": {
            "image/png": "[encoded data removed]",
            "text/plain": [
              "<Figure size 432x288 with 1 Axes>"
            ]
          },
          "metadata": {
            "needs_background": "light"
          }
        }
      ]
    },
    {
      "cell_type": "markdown",
      "metadata": {
        "id": "3GW3YgsQCrSY"
      },
      "source": [
        "la línea azul es la de los valores predichos, mientras que la verdes representa los observados los observados"
      ]
    },
    {
      "cell_type": "code",
      "metadata": {
        "colab": {
          "base_uri": "https://localhost:8080/"
        },
        "id": "hVnkutAcBL5K",
        "outputId": "34ecf085-fb64-45ec-ca39-59c75b87a3cb"
      },
      "source": [
        "#promedio del erro cuadrado\n",
        "cem4=mean_squared_error(yTest,p21)\n",
        "#raiz\n",
        "rcem4=sqrt(cem4)\n",
        "rcem4"
      ],
      "execution_count": 431,
      "outputs": [
        {
          "output_type": "execute_result",
          "data": {
            "text/plain": [
              "194521.9777874769"
            ]
          },
          "metadata": {},
          "execution_count": 431
        }
      ]
    },
    {
      "cell_type": "code",
      "metadata": {
        "colab": {
          "base_uri": "https://localhost:8080/"
        },
        "id": "2IEeHxODZHB7",
        "outputId": "6c6d2c98-c8c7-4ad3-ff51-f68b5ebc1612"
      },
      "source": [
        "#se importa la función necesaria para exportar el árbol\n",
        "from sklearn.tree import export_graphviz\n",
        "import pydot\n",
        "arbol = RDF.estimators_[6] #se crea el arbol com seis estimadores\n",
        "arbol"
      ],
      "execution_count": 421,
      "outputs": [
        {
          "output_type": "execute_result",
          "data": {
            "text/plain": [
              "DecisionTreeRegressor(ccp_alpha=0.0, criterion='mse', max_depth=None,\n",
              "                      max_features='sqrt', max_leaf_nodes=None,\n",
              "                      min_impurity_decrease=0.0, min_impurity_split=None,\n",
              "                      min_samples_leaf=1, min_samples_split=2,\n",
              "                      min_weight_fraction_leaf=0.0, presort='deprecated',\n",
              "                      random_state=192771779, splitter='best')"
            ]
          },
          "metadata": {},
          "execution_count": 421
        }
      ]
    },
    {
      "cell_type": "code",
      "metadata": {
        "id": "dgZwHXBMZqYD"
      },
      "source": [
        "#se crea el arbol.dot y luego se convierte en un png\n",
        "export_graphviz(arbol, out_file = 'arbol.dot',rounded = True, precision = 1)\n",
        "(grafica, ) = pydot.graph_from_dot_file('arbol.dot')\n",
        "grafica.write_png('arbol.png')"
      ],
      "execution_count": 422,
      "outputs": []
    },
    {
      "cell_type": "code",
      "metadata": {
        "colab": {
          "base_uri": "https://localhost:8080/"
        },
        "id": "NB27mZ9CbILU",
        "outputId": "bb187844-e82e-42f9-aa30-2700571c2b5e"
      },
      "source": [
        "#Se repite la estimación pero esta vez limitando la extensión a 3 niveles max_depth=3\n",
        "RDF2 = RandomForestRegressor(n_estimators=100, criterion=\"mse\", bootstrap = True, verbose=2,max_features = 'sqrt', random_state=0,max_depth=3)\n",
        "RDF2.fit(xEntreno,yEntreno)"
      ],
      "execution_count": 423,
      "outputs": [
        {
          "output_type": "stream",
          "text": [
            "building tree 1 of 100\n",
            "building tree 2 of 100\n",
            "building tree 3 of 100\n",
            "building tree 4 of 100\n",
            "building tree 5 of 100\n",
            "building tree 6 of 100\n",
            "building tree 7 of 100\n",
            "building tree 8 of 100\n",
            "building tree 9 of 100\n",
            "building tree 10 of 100\n",
            "building tree 11 of 100\n",
            "building tree 12 of 100\n",
            "building tree 13 of 100\n",
            "building tree 14 of 100\n",
            "building tree 15 of 100\n",
            "building tree 16 of 100\n",
            "building tree 17 of 100\n",
            "building tree 18 of 100\n",
            "building tree 19 of 100\n",
            "building tree 20 of 100\n",
            "building tree 21 of 100\n",
            "building tree 22 of 100\n",
            "building tree 23 of 100\n",
            "building tree 24 of 100\n",
            "building tree 25 of 100\n",
            "building tree 26 of 100\n",
            "building tree 27 of 100\n",
            "building tree 28 of 100\n",
            "building tree 29 of 100\n",
            "building tree 30 of 100\n",
            "building tree 31 of 100\n",
            "building tree 32 of 100\n",
            "building tree 33 of 100\n",
            "building tree 34 of 100\n",
            "building tree 35 of 100\n",
            "building tree 36 of 100\n",
            "building tree 37 of 100\n",
            "building tree 38 of 100\n",
            "building tree 39 of 100\n",
            "building tree 40 of 100\n",
            "building tree 41 of 100\n",
            "building tree 42 of 100\n",
            "building tree 43 of 100\n",
            "building tree 44 of 100\n",
            "building tree 45 of 100\n",
            "building tree 46 of 100\n",
            "building tree 47 of 100\n",
            "building tree 48 of 100\n",
            "building tree 49 of 100\n",
            "building tree 50 of 100\n",
            "building tree 51 of 100\n",
            "building tree 52 of 100\n",
            "building tree 53 of 100\n",
            "building tree 54 of 100\n",
            "building tree 55 of 100\n",
            "building tree 56 of 100\n",
            "building tree 57 of 100\n",
            "building tree 58 of 100\n",
            "building tree 59 of 100\n",
            "building tree 60 of 100\n",
            "building tree 61 of 100\n",
            "building tree 62 of 100\n",
            "building tree 63 of 100\n",
            "building tree 64 of 100\n",
            "building tree 65 of 100\n",
            "building tree 66 of 100\n",
            "building tree 67 of 100\n",
            "building tree 68 of 100\n",
            "building tree 69 of 100\n",
            "building tree 70 of 100\n",
            "building tree 71 of 100\n",
            "building tree 72 of 100\n",
            "building tree 73 of 100\n",
            "building tree 74 of 100\n",
            "building tree 75 of 100\n",
            "building tree 76 of 100\n",
            "building tree 77 of 100\n",
            "building tree 78 of 100\n",
            "building tree 79 of 100\n",
            "building tree 80 of 100\n",
            "building tree 81 of 100\n",
            "building tree 82 of 100\n",
            "building tree 83 of 100\n",
            "building tree 84 of 100\n",
            "building tree 85 of 100\n",
            "building tree 86 of 100\n",
            "building tree 87 of 100\n",
            "building tree 88 of 100\n",
            "building tree 89 of 100\n",
            "building tree 90 of 100\n",
            "building tree 91 of 100\n",
            "building tree 92 of 100\n",
            "building tree 93 of 100\n",
            "building tree 94 of 100\n",
            "building tree 95 of 100\n",
            "building tree 96 of 100\n",
            "building tree 97 of 100\n",
            "building tree 98 of 100\n",
            "building tree 99 of 100\n",
            "building tree 100 of 100\n"
          ],
          "name": "stdout"
        },
        {
          "output_type": "stream",
          "text": [
            "[Parallel(n_jobs=1)]: Using backend SequentialBackend with 1 concurrent workers.\n",
            "[Parallel(n_jobs=1)]: Done   1 out of   1 | elapsed:    0.0s remaining:    0.0s\n",
            "[Parallel(n_jobs=1)]: Done 100 out of 100 | elapsed:    0.2s finished\n"
          ],
          "name": "stderr"
        },
        {
          "output_type": "execute_result",
          "data": {
            "text/plain": [
              "RandomForestRegressor(bootstrap=True, ccp_alpha=0.0, criterion='mse',\n",
              "                      max_depth=3, max_features='sqrt', max_leaf_nodes=None,\n",
              "                      max_samples=None, min_impurity_decrease=0.0,\n",
              "                      min_impurity_split=None, min_samples_leaf=1,\n",
              "                      min_samples_split=2, min_weight_fraction_leaf=0.0,\n",
              "                      n_estimators=100, n_jobs=None, oob_score=False,\n",
              "                      random_state=0, verbose=2, warm_start=False)"
            ]
          },
          "metadata": {},
          "execution_count": 423
        }
      ]
    },
    {
      "cell_type": "code",
      "metadata": {
        "colab": {
          "base_uri": "https://localhost:8080/"
        },
        "id": "6uSs2u_1fJKY",
        "outputId": "edb588bc-666e-455f-8180-97bb969f249b"
      },
      "source": [
        "arbol2 = RDF2.estimators_[6]\n",
        "arbol2 #se crea un segundo arbol"
      ],
      "execution_count": 424,
      "outputs": [
        {
          "output_type": "execute_result",
          "data": {
            "text/plain": [
              "DecisionTreeRegressor(ccp_alpha=0.0, criterion='mse', max_depth=3,\n",
              "                      max_features='sqrt', max_leaf_nodes=None,\n",
              "                      min_impurity_decrease=0.0, min_impurity_split=None,\n",
              "                      min_samples_leaf=1, min_samples_split=2,\n",
              "                      min_weight_fraction_leaf=0.0, presort='deprecated',\n",
              "                      random_state=192771779, splitter='best')"
            ]
          },
          "metadata": {},
          "execution_count": 424
        }
      ]
    },
    {
      "cell_type": "code",
      "metadata": {
        "id": "MisdTsbjkPID"
      },
      "source": [
        "#Se exporta en un archivo. dot\n",
        "export_graphviz(arbol2, out_file = 'arbol2.dot', rounded = True, precision = 1)"
      ],
      "execution_count": 372,
      "outputs": []
    },
    {
      "cell_type": "code",
      "metadata": {
        "id": "14bQYIKPkeVp"
      },
      "source": [
        "(grafica, ) = pydot.graph_from_dot_file('arbol2.dot') #luego se transporma en png\n",
        "grafica.write_png('arbol2.png')"
      ],
      "execution_count": 373,
      "outputs": []
    },
    {
      "cell_type": "code",
      "metadata": {
        "colab": {
          "base_uri": "https://localhost:8080/",
          "height": 335
        },
        "id": "SVGux1Psohon",
        "outputId": "f7e88a98-c9b2-4b0f-d9e3-8f29dc2c65e0"
      },
      "source": [
        "#predicción\n",
        "p22=RDF2.predict(xTest)\n",
        "plt.plot(p22)\n",
        "plt.plot(yTest, color=\"green\")"
      ],
      "execution_count": 425,
      "outputs": [
        {
          "output_type": "stream",
          "text": [
            "[Parallel(n_jobs=1)]: Using backend SequentialBackend with 1 concurrent workers.\n",
            "[Parallel(n_jobs=1)]: Done   1 out of   1 | elapsed:    0.0s remaining:    0.0s\n",
            "[Parallel(n_jobs=1)]: Done 100 out of 100 | elapsed:    0.0s finished\n"
          ],
          "name": "stderr"
        },
        {
          "output_type": "execute_result",
          "data": {
            "text/plain": [
              "[<matplotlib.lines.Line2D at 0x7fd01f7d7550>]"
            ]
          },
          "metadata": {},
          "execution_count": 425
        },
        {
          "output_type": "display_data",
          "data": {
            "image/png": "[encoded data removed]",
            "text/plain": [
              "<Figure size 432x288 with 1 Axes>"
            ]
          },
          "metadata": {
            "needs_background": "light"
          }
        }
      ]
    },
    {
      "cell_type": "code",
      "metadata": {
        "colab": {
          "base_uri": "https://localhost:8080/"
        },
        "id": "V9iVbQMboy1P",
        "outputId": "389bbc45-bcbf-4314-8089-6cb08b116c79"
      },
      "source": [
        "#promedio del error cuadrado\n",
        "cem5=mean_squared_error(yTest,p22)\n",
        "#raiz\n",
        "rcem5=sqrt(cem5)\n",
        "rcem5"
      ],
      "execution_count": 426,
      "outputs": [
        {
          "output_type": "execute_result",
          "data": {
            "text/plain": [
              "181973.58363507036"
            ]
          },
          "metadata": {},
          "execution_count": 426
        }
      ]
    },
    {
      "cell_type": "code",
      "metadata": {
        "id": "D1Fl1jLPqHnu"
      },
      "source": [
        "#Se vuelve a estimar el ramdon forest pero s estiman 1000 arboles \n",
        "RDF3 = RandomForestRegressor(n_estimators=1000, criterion=\"mse\", bootstrap = True, verbose=2,max_features = 'sqrt', random_state=0,max_depth=3)"
      ],
      "execution_count": 376,
      "outputs": []
    },
    {
      "cell_type": "code",
      "metadata": {
        "id": "VNyA0eemqV0f"
      },
      "source": [
        "RDF3.fit(xEntreno,yEntreno)"
      ],
      "execution_count": null,
      "outputs": []
    },
    {
      "cell_type": "code",
      "metadata": {
        "colab": {
          "base_uri": "https://localhost:8080/",
          "height": 335
        },
        "id": "GpzEY6bzqhL9",
        "outputId": "a8905e0c-52f2-4698-a1f6-5742c6798230"
      },
      "source": [
        "p23=RDF3.predict(xTest)\n",
        "plt.plot(p23)\n",
        "plt.plot(yTest, color=\"green\")"
      ],
      "execution_count": 378,
      "outputs": [
        {
          "output_type": "stream",
          "text": [
            "[Parallel(n_jobs=1)]: Using backend SequentialBackend with 1 concurrent workers.\n",
            "[Parallel(n_jobs=1)]: Done   1 out of   1 | elapsed:    0.0s remaining:    0.0s\n",
            "[Parallel(n_jobs=1)]: Done 1000 out of 1000 | elapsed:    0.1s finished\n"
          ],
          "name": "stderr"
        },
        {
          "output_type": "execute_result",
          "data": {
            "text/plain": [
              "[<matplotlib.lines.Line2D at 0x7fd01fabbc10>]"
            ]
          },
          "metadata": {},
          "execution_count": 378
        },
        {
          "output_type": "display_data",
          "data": {
            "image/png": "[encoded data removed]",
            "text/plain": [
              "<Figure size 432x288 with 1 Axes>"
            ]
          },
          "metadata": {
            "needs_background": "light"
          }
        }
      ]
    },
    {
      "cell_type": "code",
      "metadata": {
        "colab": {
          "base_uri": "https://localhost:8080/"
        },
        "id": "jORZrDnMqn3O",
        "outputId": "90f1fec4-7cd1-49ce-ea83-1c113a4bfa5c"
      },
      "source": [
        "#promedio del erro cuadrado\n",
        "cem6=mean_squared_error(yTest, p23)\n",
        "#raiz\n",
        "rcem6=sqrt(cem6)\n",
        "rcem6"
      ],
      "execution_count": 427,
      "outputs": [
        {
          "output_type": "execute_result",
          "data": {
            "text/plain": [
              "189422.34629962317"
            ]
          },
          "metadata": {},
          "execution_count": 427
        }
      ]
    },
    {
      "cell_type": "code",
      "metadata": {
        "colab": {
          "base_uri": "https://localhost:8080/"
        },
        "id": "Xu6RVFCD7MXL",
        "outputId": "7bc61c1d-9d02-4d99-ad59-e49adbe28bfe"
      },
      "source": [
        "arbol3 = RDF3.estimators_[6]\n",
        "arbol3 # se crea el tercer arbol "
      ],
      "execution_count": 382,
      "outputs": [
        {
          "output_type": "execute_result",
          "data": {
            "text/plain": [
              "DecisionTreeRegressor(ccp_alpha=0.0, criterion='mse', max_depth=3,\n",
              "                      max_features='sqrt', max_leaf_nodes=None,\n",
              "                      min_impurity_decrease=0.0, min_impurity_split=None,\n",
              "                      min_samples_leaf=1, min_samples_split=2,\n",
              "                      min_weight_fraction_leaf=0.0, presort='deprecated',\n",
              "                      random_state=192771779, splitter='best')"
            ]
          },
          "metadata": {},
          "execution_count": 382
        }
      ]
    },
    {
      "cell_type": "code",
      "metadata": {
        "id": "4zzTJ2_DtYwi"
      },
      "source": [
        "export_graphviz(arbol3, out_file = 'arbol3.dot', rounded = True, precision = 1)\n",
        "(grafica, ) = pydot.graph_from_dot_file('arbol3.dot')\n",
        "grafica.write_png('arbol3.png')\n",
        "#se esporta en png"
      ],
      "execution_count": 428,
      "outputs": []
    },
    {
      "cell_type": "markdown",
      "metadata": {
        "id": "-TFjuidcHNdv"
      },
      "source": [
        "Se crea un vector con el promedio de los errores al cuadrado"
      ]
    },
    {
      "cell_type": "code",
      "metadata": {
        "colab": {
          "base_uri": "https://localhost:8080/"
        },
        "id": "PVfcb4K3HTiw",
        "outputId": "c1b61bce-006c-4d7c-c8d1-bdd08415c2e7"
      },
      "source": [
        "vector_errores=[rcem1,rcem2,rcem3,rcem4,rcem5,rcem6]\n",
        "menor_error=min(vector_errores)#se determina cual es menor\n",
        "menor_error\n",
        "\n"
      ],
      "execution_count": 443,
      "outputs": [
        {
          "output_type": "execute_result",
          "data": {
            "text/plain": [
              "169838.7148244125"
            ]
          },
          "metadata": {},
          "execution_count": 443
        }
      ]
    },
    {
      "cell_type": "code",
      "metadata": {
        "colab": {
          "base_uri": "https://localhost:8080/",
          "height": 35
        },
        "id": "vzgoVODRIY1u",
        "outputId": "6aa2c2d0-5f45-4438-abf3-6b836eb9601e"
      },
      "source": [
        "#se crea un directorio con cada modelo\n",
        "directorio={rcem1:\"KNN\", rcem2:\"KNN2\", rcem3:\"KNN3\", rcem4:\"RDF\",rcem5:\"RDF2\",rcem6:\"RDF3\"}\n",
        "directorio[menor_error]"
      ],
      "execution_count": 447,
      "outputs": [
        {
          "output_type": "execute_result",
          "data": {
            "application/vnd.google.colaboratory.intrinsic+json": {
              "type": "string"
            },
            "text/plain": [
              "'KNN3'"
            ]
          },
          "metadata": {},
          "execution_count": 447
        }
      ]
    },
    {
      "cell_type": "markdown",
      "metadata": {
        "id": "lZPIBJQdKl1Z"
      },
      "source": [
        "Lo anterior muestra que el modelo que menos se equivoca en la predicción en promedio es el K Nearest Neighbor con 9 vecinos más cercanos"
      ]
    }
  ]
}