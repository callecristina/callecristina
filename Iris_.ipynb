{
  "nbformat": 4,
  "nbformat_minor": 0,
  "metadata": {
    "colab": {
      "name": "Iris.",
      "provenance": [],
      "authorship_tag": "ABX9TyMeT8VejFrT1dYu9oRIgBaR"
    },
    "kernelspec": {
      "name": "python3",
      "display_name": "Python 3"
    },
    "language_info": {
      "name": "python"
    }
  },
  "cells": [
    {
      "cell_type": "code",
      "metadata": {
        "id": "Z6y8gOeHlZsy"
      },
      "source": [
        "#importación de la base de datos de iris\n",
        "import pandas as pd\n",
        "df=pd.read_csv(\"Iris.csv\", \",\")\n",
        "df.head()"
      ],
      "execution_count": null,
      "outputs": []
    },
    {
      "cell_type": "code",
      "metadata": {
        "id": "IUbxVNhTpzko"
      },
      "source": [
        "df.shape"
      ],
      "execution_count": null,
      "outputs": []
    },
    {
      "cell_type": "code",
      "metadata": {
        "id": "gCKj1uF-8g7W"
      },
      "source": [
        "df.describe()"
      ],
      "execution_count": null,
      "outputs": []
    },
    {
      "cell_type": "markdown",
      "metadata": {
        "id": "rB1RGN_n8fyn"
      },
      "source": [
        "Una base de datos de 150 observaciones, donde se encuentra las especies de una flor y caracteristicas, que son medidas de los petalos y tallos  Como se ve la base de datos esta completa"
      ]
    },
    {
      "cell_type": "code",
      "metadata": {
        "id": "F5pt53Tw9uno"
      },
      "source": [
        "#Histograma de las variables continuas\n",
        "df.SepalLengthCm.hist()"
      ],
      "execution_count": null,
      "outputs": []
    },
    {
      "cell_type": "code",
      "metadata": {
        "id": "tzRvw80B5gEU"
      },
      "source": [
        "df.SepalWidthCm.hist()"
      ],
      "execution_count": null,
      "outputs": []
    },
    {
      "cell_type": "code",
      "metadata": {
        "id": "zkHUdtegb0Pp"
      },
      "source": [
        "df.PetalLengthCm.hist()"
      ],
      "execution_count": null,
      "outputs": []
    },
    {
      "cell_type": "code",
      "metadata": {
        "id": "qJGfkeIxcpmf"
      },
      "source": [
        "df.PetalWidthCm.hist()"
      ],
      "execution_count": null,
      "outputs": []
    },
    {
      "cell_type": "code",
      "metadata": {
        "id": "fudg9CAOdL4B"
      },
      "source": [
        "#Histograma de variable categorica\n",
        "import seaborn as sb\n",
        "sb.factorplot('Species',data=df,kind=\"count\", aspect=2)"
      ],
      "execution_count": null,
      "outputs": []
    },
    {
      "cell_type": "code",
      "metadata": {
        "id": "qP8mM3Onekdu"
      },
      "source": [
        "#Definición de la x\n",
        "x=df.drop([\"Species\"], axis=1)\n",
        "x.head()"
      ],
      "execution_count": null,
      "outputs": []
    },
    {
      "cell_type": "code",
      "metadata": {
        "id": "CBbiq3uXfnGK"
      },
      "source": [
        "#Definicion de y\n",
        "y=df[\"Species\"]\n",
        "y.head()"
      ],
      "execution_count": null,
      "outputs": []
    },
    {
      "cell_type": "code",
      "metadata": {
        "id": "WjVfIuSugDyq"
      },
      "source": [
        "#Separa la base de datos\n",
        "from sklearn.model_selection import train_test_split\n",
        "xEntreno, xTest, yEntreno, yTest = train_test_split(x, y, test_size=0.3, random_state=0,shuffle=True)\n",
        "#xEntreno la matriz de atributos de entrenamiento\n",
        "#yEntreno la clase de entrenamiento\n",
        "#xTest la matirz de atributos de testeo\n",
        "#yTest la clase de testeo"
      ],
      "execution_count": 148,
      "outputs": []
    },
    {
      "cell_type": "markdown",
      "metadata": {
        "id": "tvA4uAbyx1Kx"
      },
      "source": [
        "K-Nearest Neighbor "
      ]
    },
    {
      "cell_type": "code",
      "metadata": {
        "id": "4sJsBkRDmxan"
      },
      "source": [
        "from sklearn.preprocessing import MinMaxScaler\n",
        "scaler = MinMaxScaler()\n",
        "xEntreno = scaler.fit_transform(xEntreno)\n",
        "xTest = scaler.transform(xTest)"
      ],
      "execution_count": 149,
      "outputs": []
    },
    {
      "cell_type": "code",
      "metadata": {
        "colab": {
          "base_uri": "https://localhost:8080/"
        },
        "id": "Cz1ca1zRyUcQ",
        "outputId": "07498d4c-7455-4090-cfb9-b176f0e003c3"
      },
      "source": [
        "from sklearn.neighbors import KNeighborsClassifier\n",
        "nvecinos=105\n",
        "KNN = KNeighborsClassifier(nvecinos)\n",
        "KNN.fit(xEntreno,yEntreno)\n",
        "print('la precisión de la clasificacion KNN en el conjunto de entrenamiento: {:.2f}'\n",
        "     .format(KNN.score(xEntreno, yEntreno)))\n",
        "print('la precisión de la clasificacion KNN en conjunto de testeo: {:.2f}'\n",
        "     .format(KNN.score(xTest, yTest)))"
      ],
      "execution_count": 163,
      "outputs": [
        {
          "output_type": "stream",
          "name": "stdout",
          "text": [
            "la precisión de la clasificacion KNN en el conjunto de entrenamiento: 0.37\n",
            "la precisión de la clasificacion KNN en conjunto de testeo: 0.24\n"
          ]
        }
      ]
    },
    {
      "cell_type": "code",
      "metadata": {
        "id": "P93cvHNPdy5q"
      },
      "source": [
        "#Predicción\n",
        "yhat=KNN.predict(xTest)"
      ],
      "execution_count": 151,
      "outputs": []
    },
    {
      "cell_type": "code",
      "metadata": {
        "id": "aIUy-wUtPAlE"
      },
      "source": [
        "#Probabilidad de yhat\n",
        "print(KNN.predict_proba(xTest))"
      ],
      "execution_count": null,
      "outputs": []
    },
    {
      "cell_type": "code",
      "metadata": {
        "id": "68HwvHlG17nV"
      },
      "source": [
        "import numpy as np\n",
        "r=[]\n",
        "for i in range(0,len(yTest)):\n",
        "  if yhat[i]==yTest.values[i]:\n",
        "      r.append(yhat[i])\n",
        "r"
      ],
      "execution_count": null,
      "outputs": []
    },
    {
      "cell_type": "code",
      "metadata": {
        "colab": {
          "base_uri": "https://localhost:8080/"
        },
        "id": "Ea_bt79M7Rt2",
        "outputId": "bbebdc8a-dd52-4b23-d6e1-783b666fad58"
      },
      "source": [
        "from sklearn.metrics import classification_report\n",
        "from sklearn.metrics import confusion_matrix\n",
        "print(confusion_matrix(yTest, yhat))\n",
        "print(classification_report(yTest, yhat))"
      ],
      "execution_count": 154,
      "outputs": [
        {
          "output_type": "stream",
          "name": "stdout",
          "text": [
            "[[ 0  0 16]\n",
            " [ 0  0 18]\n",
            " [ 0  0 11]]\n",
            "                 precision    recall  f1-score   support\n",
            "\n",
            "    Iris-setosa       0.00      0.00      0.00        16\n",
            "Iris-versicolor       0.00      0.00      0.00        18\n",
            " Iris-virginica       0.24      1.00      0.39        11\n",
            "\n",
            "       accuracy                           0.24        45\n",
            "      macro avg       0.08      0.33      0.13        45\n",
            "   weighted avg       0.06      0.24      0.10        45\n",
            "\n"
          ]
        },
        {
          "output_type": "stream",
          "name": "stderr",
          "text": [
            "/usr/local/lib/python3.7/dist-packages/sklearn/metrics/_classification.py:1272: UndefinedMetricWarning: Precision and F-score are ill-defined and being set to 0.0 in labels with no predicted samples. Use `zero_division` parameter to control this behavior.\n",
            "  _warn_prf(average, modifier, msg_start, len(result))\n"
          ]
        }
      ]
    },
    {
      "cell_type": "code",
      "metadata": {
        "colab": {
          "base_uri": "https://localhost:8080/",
          "height": 297
        },
        "id": "C9xGKotp9BQA",
        "outputId": "9813cecc-4ccd-4bc8-cbd6-733a53e02689"
      },
      "source": [
        "import matplotlib.pyplot as plt\n",
        "from matplotlib.colors import ListedColormap\n",
        "import matplotlib.patches as mpatche\n",
        "vecinos=range(1,105)\n",
        "puntaje=[]\n",
        "for j in vecinos:\n",
        "  KNN=KNeighborsClassifier(n_neighbors = j)\n",
        "  KNN.fit(xEntreno, yEntreno)\n",
        "  puntaje.append(KNN.score(xTest, yTest))\n",
        "plt.figure()\n",
        "plt.xlabel(\"vecinos\")\n",
        "plt.ylabel(\"presición\")\n",
        "plt.scatter(vecinos,puntaje)"
      ],
      "execution_count": 156,
      "outputs": [
        {
          "output_type": "execute_result",
          "data": {
            "text/plain": [
              "<matplotlib.collections.PathCollection at 0x7f9f9a953590>"
            ]
          },
          "metadata": {},
          "execution_count": 156
        },
        {
          "output_type": "display_data",
          "data": {
            "image/png": "[encoded data removed]",
            "text/plain": [
              "<Figure size 432x288 with 1 Axes>"
            ]
          },
          "metadata": {
            "needs_background": "light"
          }
        }
      ]
    },
    {
      "cell_type": "code",
      "metadata": {
        "colab": {
          "base_uri": "https://localhost:8080/"
        },
        "id": "uB6rO1m8OzQX",
        "outputId": "91f506ee-a2d7-42cc-8285-4e9cdb16062f"
      },
      "source": [
        "#KNN con otros parametros\n",
        "KNN2 = KNeighborsClassifier(n_neighbors= 105, weights=\"distance\", algorithm=\"kd_tree\", metric=\"euclidean\")\n",
        "KNN2.fit(xEntreno,yEntreno)\n",
        "print('la precisión de la clasificacion KNN2 en el conjunto de entrenamiento: {:.2f}'.format(KNN2.score(xEntreno, yEntreno)))\n",
        "print('la precisión de la clasificacion KNN2 en conjunto de testeo: {:.2f}'.format(KNN2.score(xTest, yTest)))"
      ],
      "execution_count": 179,
      "outputs": [
        {
          "output_type": "stream",
          "name": "stdout",
          "text": [
            "la precisión de la clasificacion KNN2 en el conjunto de entrenamiento: 1.00\n",
            "la precisión de la clasificacion KNN2 en conjunto de testeo: 1.00\n"
          ]
        }
      ]
    },
    {
      "cell_type": "code",
      "metadata": {
        "id": "c8TEI6hQah3O"
      },
      "source": [
        "#predicción\n",
        "yhat2=KNN2.predict(xTest)"
      ],
      "execution_count": 180,
      "outputs": []
    },
    {
      "cell_type": "code",
      "metadata": {
        "id": "8qCdg3RmazaH"
      },
      "source": [
        "#probabilidad\n",
        "print(KNN2.predict_proba(xTest))"
      ],
      "execution_count": null,
      "outputs": []
    },
    {
      "cell_type": "code",
      "metadata": {
        "id": "T8ufFA_VbCir"
      },
      "source": [
        "import numpy as np\n",
        "r2=[]\n",
        "for i in range(0,len(yTest)):\n",
        "  if yhat2[i]==yTest.values[i]:\n",
        "      r2.append(yhat2[i])\n",
        "r2"
      ],
      "execution_count": null,
      "outputs": []
    },
    {
      "cell_type": "code",
      "metadata": {
        "colab": {
          "base_uri": "https://localhost:8080/"
        },
        "id": "CkGuRpRNYrH_",
        "outputId": "72f2620c-0793-427f-e5c0-a5375af65b8e"
      },
      "source": [
        "print(confusion_matrix(yTest, yhat2))\n",
        "print(classification_report(yTest, yhat2))"
      ],
      "execution_count": 183,
      "outputs": [
        {
          "output_type": "stream",
          "name": "stdout",
          "text": [
            "[[16  0  0]\n",
            " [ 0 18  0]\n",
            " [ 0  0 11]]\n",
            "                 precision    recall  f1-score   support\n",
            "\n",
            "    Iris-setosa       1.00      1.00      1.00        16\n",
            "Iris-versicolor       1.00      1.00      1.00        18\n",
            " Iris-virginica       1.00      1.00      1.00        11\n",
            "\n",
            "       accuracy                           1.00        45\n",
            "      macro avg       1.00      1.00      1.00        45\n",
            "   weighted avg       1.00      1.00      1.00        45\n",
            "\n"
          ]
        }
      ]
    },
    {
      "cell_type": "code",
      "metadata": {
        "colab": {
          "base_uri": "https://localhost:8080/",
          "height": 297
        },
        "id": "YHlqw_b5eH7e",
        "outputId": "bf5afafc-16ba-4560-f1f1-2c20cc496e2a"
      },
      "source": [
        "vecinos2=range(1,105)\n",
        "puntaje2=[]\n",
        "for j in vecinos2:\n",
        "  KNN2=KNeighborsClassifier(n_neighbors = j,weights=\"distance\", algorithm=\"kd_tree\", metric=\"euclidean\")\n",
        "  KNN2.fit(xEntreno, yEntreno)\n",
        "  puntaje2.append(KNN2.score(xTest, yTest))\n",
        "plt.figure()\n",
        "plt.xlabel(\"vecinos\")\n",
        "plt.ylabel(\"presición\")\n",
        "plt.scatter(vecinos2,puntaje2)"
      ],
      "execution_count": 185,
      "outputs": [
        {
          "output_type": "execute_result",
          "data": {
            "text/plain": [
              "<matplotlib.collections.PathCollection at 0x7f9f9a619490>"
            ]
          },
          "metadata": {},
          "execution_count": 185
        },
        {
          "output_type": "display_data",
          "data": {
            "image/png": "[encoded data removed]",
            "text/plain": [
              "<Figure size 432x288 with 1 Axes>"
            ]
          },
          "metadata": {
            "needs_background": "light"
          }
        }
      ]
    },
    {
      "cell_type": "code",
      "metadata": {
        "colab": {
          "base_uri": "https://localhost:8080/"
        },
        "id": "QqwAHf8Rfmwr",
        "outputId": "ff5ffe01-cbc7-4273-b43b-0f4aeb5f3bea"
      },
      "source": [
        "#KNN con otros parametros\n",
        "KNN3 = KNeighborsClassifier(n_neighbors= 105, weights=\"distance\", algorithm=\"ball_tree\", metric=\"minkowski\")\n",
        "KNN3.fit(xEntreno,yEntreno)\n",
        "print('la precisión de la clasificacion KNN3 en el conjunto de entrenamiento: {:.2f}'.format(KNN3.score(xEntreno, yEntreno)))\n",
        "print('la precisión de la clasificacion KNN3 en conjunto de testeo: {:.2f}'.format(KNN3.score(xTest, yTest)))"
      ],
      "execution_count": 190,
      "outputs": [
        {
          "output_type": "stream",
          "name": "stdout",
          "text": [
            "la precisión de la clasificacion KNN3 en el conjunto de entrenamiento: 1.00\n",
            "la precisión de la clasificacion KNN3 en conjunto de testeo: 1.00\n"
          ]
        }
      ]
    },
    {
      "cell_type": "code",
      "metadata": {
        "id": "7tpza4kDhmsl"
      },
      "source": [
        "yhat3=KNN3.predict(xTest)\n",
        "#predicción "
      ],
      "execution_count": 191,
      "outputs": []
    },
    {
      "cell_type": "code",
      "metadata": {
        "id": "HHBfgkgahr16"
      },
      "source": [
        "#probabilidad\n",
        "print(KNN3.predict_proba(xTest))"
      ],
      "execution_count": null,
      "outputs": []
    },
    {
      "cell_type": "code",
      "metadata": {
        "id": "zMnzRgIJiUpW"
      },
      "source": [
        "r3=[]\n",
        "for i in range(0,len(yTest)):\n",
        "  if yhat3[i]==yTest.values[i]:\n",
        "      r3.append(yhat3[i])\n",
        "r3"
      ],
      "execution_count": null,
      "outputs": []
    },
    {
      "cell_type": "code",
      "metadata": {
        "colab": {
          "base_uri": "https://localhost:8080/"
        },
        "id": "OT4cjI-jiiph",
        "outputId": "59fe5ffd-c33a-4466-ca14-bd8065092afa"
      },
      "source": [
        "print(confusion_matrix(yTest, yhat3))\n",
        "print(classification_report(yTest, yhat3))"
      ],
      "execution_count": 194,
      "outputs": [
        {
          "output_type": "stream",
          "name": "stdout",
          "text": [
            "[[16  0  0]\n",
            " [ 0 18  0]\n",
            " [ 0  0 11]]\n",
            "                 precision    recall  f1-score   support\n",
            "\n",
            "    Iris-setosa       1.00      1.00      1.00        16\n",
            "Iris-versicolor       1.00      1.00      1.00        18\n",
            " Iris-virginica       1.00      1.00      1.00        11\n",
            "\n",
            "       accuracy                           1.00        45\n",
            "      macro avg       1.00      1.00      1.00        45\n",
            "   weighted avg       1.00      1.00      1.00        45\n",
            "\n"
          ]
        }
      ]
    },
    {
      "cell_type": "code",
      "metadata": {
        "colab": {
          "base_uri": "https://localhost:8080/",
          "height": 297
        },
        "id": "51KV8Dt1ioWG",
        "outputId": "ab58a574-777d-4fab-e97f-4abee4aa3ac8"
      },
      "source": [
        "vecinos3=range(1,105)\n",
        "puntaje3=[]\n",
        "for j in vecinos3:\n",
        "  KNN3=KNeighborsClassifier(n_neighbors = j,weights=\"distance\", algorithm=\"ball_tree\", metric=\"minkowski\")\n",
        "  KNN3.fit(xEntreno, yEntreno)\n",
        "  puntaje3.append(KNN3.score(xTest, yTest))\n",
        "plt.figure()\n",
        "plt.xlabel(\"vecinos\")\n",
        "plt.ylabel(\"presición\")\n",
        "plt.scatter(vecinos3,puntaje3)"
      ],
      "execution_count": 195,
      "outputs": [
        {
          "output_type": "execute_result",
          "data": {
            "text/plain": [
              "<matplotlib.collections.PathCollection at 0x7f9f9a550390>"
            ]
          },
          "metadata": {},
          "execution_count": 195
        },
        {
          "output_type": "display_data",
          "data": {
            "image/png": "[encoded data removed]",
            "text/plain": [
              "<Figure size 432x288 with 1 Axes>"
            ]
          },
          "metadata": {
            "needs_background": "light"
          }
        }
      ]
    },
    {
      "cell_type": "markdown",
      "metadata": {
        "id": "PiCRUg1bi9Mr"
      },
      "source": [
        "Ramdon Forest"
      ]
    },
    {
      "cell_type": "code",
      "metadata": {
        "id": "1bdlx5BZnKwU"
      },
      "source": [
        "from sklearn.ensemble import RandomForestClassifier\n",
        "RFC = RandomForestClassifier(n_estimators=100, bootstrap = True, verbose=2, max_features = 'sqrt')\n",
        "RFC.fit(xEntreno,yEntreno)"
      ],
      "execution_count": null,
      "outputs": []
    },
    {
      "cell_type": "code",
      "metadata": {
        "id": "ezvVXxW2o2Xx"
      },
      "source": [
        "print('la precisión de la clasificacion RFC en el conjunto de entrenamiento: {:.2f}'.format(RFC.score(xEntreno, yEntreno)))\n",
        "print('la precisión de la clasificacion RFC en conjunto de testeo: {:.2f}'.format(RFC.score(xTest, yTest)))"
      ],
      "execution_count": null,
      "outputs": []
    },
    {
      "cell_type": "code",
      "metadata": {
        "colab": {
          "base_uri": "https://localhost:8080/"
        },
        "id": "1oBe1WzspZtq",
        "outputId": "74bf3d89-9fc4-4559-be3d-30bc5a0cc1af"
      },
      "source": [
        "#predicción\n",
        "yhat4=RFC.predict(xTest)"
      ],
      "execution_count": 210,
      "outputs": [
        {
          "output_type": "stream",
          "name": "stderr",
          "text": [
            "[Parallel(n_jobs=1)]: Using backend SequentialBackend with 1 concurrent workers.\n",
            "[Parallel(n_jobs=1)]: Done   1 out of   1 | elapsed:    0.0s remaining:    0.0s\n",
            "[Parallel(n_jobs=1)]: Done 100 out of 100 | elapsed:    0.0s finished\n"
          ]
        }
      ]
    },
    {
      "cell_type": "code",
      "metadata": {
        "id": "FlfAGTV8phOQ"
      },
      "source": [
        "#probabilidad\n",
        "print(RFC.predict_proba(xTest))"
      ],
      "execution_count": null,
      "outputs": []
    },
    {
      "cell_type": "code",
      "metadata": {
        "id": "99naWHLjp9_G"
      },
      "source": [
        "r4=[]\n",
        "for i in range(0,len(yTest)):\n",
        "  if yhat4[i]==yTest.values[i]:\n",
        "      r4.append(yhat4[i])\n",
        "r4"
      ],
      "execution_count": null,
      "outputs": []
    },
    {
      "cell_type": "code",
      "metadata": {
        "colab": {
          "base_uri": "https://localhost:8080/"
        },
        "id": "MRZXRrhxqa3x",
        "outputId": "14b0c1ba-1c0b-415b-d018-a512608d48e0"
      },
      "source": [
        "print(confusion_matrix(yTest, yhat4))\n",
        "print(classification_report(yTest, yhat4))"
      ],
      "execution_count": 202,
      "outputs": [
        {
          "output_type": "stream",
          "name": "stdout",
          "text": [
            "[[16  0  0]\n",
            " [ 0 18  0]\n",
            " [ 0  0 11]]\n",
            "                 precision    recall  f1-score   support\n",
            "\n",
            "    Iris-setosa       1.00      1.00      1.00        16\n",
            "Iris-versicolor       1.00      1.00      1.00        18\n",
            " Iris-virginica       1.00      1.00      1.00        11\n",
            "\n",
            "       accuracy                           1.00        45\n",
            "      macro avg       1.00      1.00      1.00        45\n",
            "   weighted avg       1.00      1.00      1.00        45\n",
            "\n"
          ]
        }
      ]
    },
    {
      "cell_type": "code",
      "metadata": {
        "colab": {
          "base_uri": "https://localhost:8080/",
          "height": 297
        },
        "id": "pzKjpKe2qxGC",
        "outputId": "d5a670f4-dd06-4bd8-d57a-4a2ca0f7b1e6"
      },
      "source": [
        "vecinos4=range(1,105)\n",
        "puntaje4=[]\n",
        "for j in vecinos4:\n",
        "  RFC=RandomForestClassifier(n_estimators=j)\n",
        "  RFC.fit(xEntreno, yEntreno)\n",
        "  puntaje4.append(RFC.score(xTest, yTest))\n",
        "plt.figure()\n",
        "plt.xlabel(\"vecinos\")\n",
        "plt.ylabel(\"presición\")\n",
        "plt.scatter(vecinos4,puntaje4)"
      ],
      "execution_count": 224,
      "outputs": [
        {
          "output_type": "execute_result",
          "data": {
            "text/plain": [
              "<matplotlib.collections.PathCollection at 0x7f9f992abe10>"
            ]
          },
          "metadata": {},
          "execution_count": 224
        },
        {
          "output_type": "display_data",
          "data": {
            "image/png": "[encoded data removed]",
            "text/plain": [
              "<Figure size 432x288 with 1 Axes>"
            ]
          },
          "metadata": {
            "needs_background": "light"
          }
        }
      ]
    },
    {
      "cell_type": "code",
      "metadata": {
        "id": "nACi5uxmrbi0"
      },
      "source": [
        "# Ramdon Forest Clasificació con otros parametros\n",
        "RFC2 = RandomForestClassifier(n_estimators=100, bootstrap = False, verbose=2, max_features = 'log2')\n",
        "RFC2.fit(xEntreno,yEntreno)"
      ],
      "execution_count": null,
      "outputs": []
    },
    {
      "cell_type": "code",
      "metadata": {
        "colab": {
          "base_uri": "https://localhost:8080/"
        },
        "id": "i1Uig6XEuZ35",
        "outputId": "78f95161-76f1-4dda-cf24-8d341e39f801"
      },
      "source": [
        "print('la precisión de la clasificacion RFC2 en el conjunto de entrenamiento: {:.2f}'.format(RFC2.score(xEntreno, yEntreno)))\n",
        "print('la precisión de la clasificacion RFC2 en conjunto de testeo: {:.2f}'.format(RFC2.score(xTest, yTest)))"
      ],
      "execution_count": 209,
      "outputs": [
        {
          "output_type": "stream",
          "name": "stdout",
          "text": [
            "la precisión de la clasificacion RFC2 en el conjunto de entrenamiento: 1.00\n",
            "la precisión de la clasificacion RFC2 en conjunto de testeo: 1.00\n"
          ]
        },
        {
          "output_type": "stream",
          "name": "stderr",
          "text": [
            "[Parallel(n_jobs=1)]: Using backend SequentialBackend with 1 concurrent workers.\n",
            "[Parallel(n_jobs=1)]: Done   1 out of   1 | elapsed:    0.0s remaining:    0.0s\n",
            "[Parallel(n_jobs=1)]: Done 100 out of 100 | elapsed:    0.0s finished\n",
            "[Parallel(n_jobs=1)]: Using backend SequentialBackend with 1 concurrent workers.\n",
            "[Parallel(n_jobs=1)]: Done   1 out of   1 | elapsed:    0.0s remaining:    0.0s\n",
            "[Parallel(n_jobs=1)]: Done 100 out of 100 | elapsed:    0.0s finished\n"
          ]
        }
      ]
    },
    {
      "cell_type": "code",
      "metadata": {
        "colab": {
          "base_uri": "https://localhost:8080/"
        },
        "id": "36UCz1Q6un63",
        "outputId": "fbf4d2ac-538f-46f9-e11b-bf1672d88c04"
      },
      "source": [
        "yhat5=RFC2.predict(xTest)"
      ],
      "execution_count": 232,
      "outputs": [
        {
          "output_type": "stream",
          "name": "stderr",
          "text": [
            "[Parallel(n_jobs=1)]: Using backend SequentialBackend with 1 concurrent workers.\n",
            "[Parallel(n_jobs=1)]: Done   1 out of   1 | elapsed:    0.0s remaining:    0.0s\n",
            "[Parallel(n_jobs=1)]: Done 104 out of 104 | elapsed:    0.0s finished\n"
          ]
        }
      ]
    },
    {
      "cell_type": "code",
      "metadata": {
        "id": "H1mPiPM2vClW"
      },
      "source": [
        "print(RFC2.predict_proba(xTest))"
      ],
      "execution_count": null,
      "outputs": []
    },
    {
      "cell_type": "code",
      "metadata": {
        "id": "xMnKXkvavLKZ"
      },
      "source": [
        "r5=[]\n",
        "for i in range(0,len(yTest)):\n",
        "  if yhat5[i]==yTest.values[i]:\n",
        "      r5.append(yhat5[i])\n",
        "r5"
      ],
      "execution_count": null,
      "outputs": []
    },
    {
      "cell_type": "code",
      "metadata": {
        "colab": {
          "base_uri": "https://localhost:8080/"
        },
        "id": "Ma5x8j8gvcC-",
        "outputId": "b39f391f-9985-467b-e199-2a44885e0ff2"
      },
      "source": [
        "print(confusion_matrix(yTest, yhat5))\n",
        "print(classification_report(yTest, yhat5))"
      ],
      "execution_count": 214,
      "outputs": [
        {
          "output_type": "stream",
          "name": "stdout",
          "text": [
            "[[16  0  0]\n",
            " [ 0 18  0]\n",
            " [ 0  0 11]]\n",
            "                 precision    recall  f1-score   support\n",
            "\n",
            "    Iris-setosa       1.00      1.00      1.00        16\n",
            "Iris-versicolor       1.00      1.00      1.00        18\n",
            " Iris-virginica       1.00      1.00      1.00        11\n",
            "\n",
            "       accuracy                           1.00        45\n",
            "      macro avg       1.00      1.00      1.00        45\n",
            "   weighted avg       1.00      1.00      1.00        45\n",
            "\n"
          ]
        }
      ]
    },
    {
      "cell_type": "code",
      "metadata": {
        "id": "DuVpFVOgv3Yb"
      },
      "source": [
        "vecinos5=range(1,105)\n",
        "puntaje5=[]\n",
        "for j in vecinos5:\n",
        "  RFC2=RandomForestClassifier(n_estimators=j,bootstrap = False, verbose=2, max_features = 'log2')\n",
        "  RFC2.fit(xEntreno, yEntreno)\n",
        "  puntaje5.append(RFC2.score(xTest, yTest))\n",
        "plt.figure()\n",
        "plt.xlabel(\"vecinos\")\n",
        "plt.ylabel(\"presición\")\n",
        "plt.scatter(vecinos5,puntaje5)"
      ],
      "execution_count": null,
      "outputs": []
    },
    {
      "cell_type": "code",
      "metadata": {
        "id": "2hzKULvPwzBn"
      },
      "source": [
        "RFC3 = RandomForestClassifier(n_estimators=100, bootstrap = False, verbose=2, max_features = 'auto')\n",
        "RFC3.fit(xEntreno,yEntreno)"
      ],
      "execution_count": null,
      "outputs": []
    },
    {
      "cell_type": "code",
      "metadata": {
        "colab": {
          "base_uri": "https://localhost:8080/"
        },
        "id": "21oVRFynxn45",
        "outputId": "1badc3de-e94d-430a-a0b6-b1311bc897bc"
      },
      "source": [
        "print('la precisión de la clasificacion RFC3 en el conjunto de entrenamiento: {:.2f}'.format(RFC3.score(xEntreno, yEntreno)))\n",
        "print('la precisión de la clasificacion RFC3 en conjunto de testeo: {:.2f}'.format(RFC3.score(xTest, yTest)))"
      ],
      "execution_count": 227,
      "outputs": [
        {
          "output_type": "stream",
          "name": "stdout",
          "text": [
            "la precisión de la clasificacion RFC3 en el conjunto de entrenamiento: 1.00\n",
            "la precisión de la clasificacion RFC3 en conjunto de testeo: 1.00\n"
          ]
        },
        {
          "output_type": "stream",
          "name": "stderr",
          "text": [
            "[Parallel(n_jobs=1)]: Using backend SequentialBackend with 1 concurrent workers.\n",
            "[Parallel(n_jobs=1)]: Done   1 out of   1 | elapsed:    0.0s remaining:    0.0s\n",
            "[Parallel(n_jobs=1)]: Done 100 out of 100 | elapsed:    0.0s finished\n",
            "[Parallel(n_jobs=1)]: Using backend SequentialBackend with 1 concurrent workers.\n",
            "[Parallel(n_jobs=1)]: Done   1 out of   1 | elapsed:    0.0s remaining:    0.0s\n",
            "[Parallel(n_jobs=1)]: Done 100 out of 100 | elapsed:    0.0s finished\n"
          ]
        }
      ]
    },
    {
      "cell_type": "code",
      "metadata": {
        "colab": {
          "base_uri": "https://localhost:8080/"
        },
        "id": "C2IF4LpKycH6",
        "outputId": "0dd935dd-47e0-4fc7-a84c-190366cf74d3"
      },
      "source": [
        "yhat6=RFC3.predict(xTest)"
      ],
      "execution_count": 229,
      "outputs": [
        {
          "output_type": "stream",
          "name": "stderr",
          "text": [
            "[Parallel(n_jobs=1)]: Using backend SequentialBackend with 1 concurrent workers.\n",
            "[Parallel(n_jobs=1)]: Done   1 out of   1 | elapsed:    0.0s remaining:    0.0s\n",
            "[Parallel(n_jobs=1)]: Done 100 out of 100 | elapsed:    0.0s finished\n"
          ]
        }
      ]
    },
    {
      "cell_type": "code",
      "metadata": {
        "id": "3w0irzDUyn3T"
      },
      "source": [
        "print(RFC3.predict_proba(xTest))"
      ],
      "execution_count": null,
      "outputs": []
    },
    {
      "cell_type": "code",
      "metadata": {
        "id": "MP3KVkEVzDDh"
      },
      "source": [
        "r6=[]\n",
        "for i in range(0,len(yTest)):\n",
        "  if yhat6[i]==yTest.values[i]:\n",
        "      r6.append(yhat6[i])\n",
        "r6"
      ],
      "execution_count": null,
      "outputs": []
    },
    {
      "cell_type": "code",
      "metadata": {
        "colab": {
          "base_uri": "https://localhost:8080/"
        },
        "id": "m8T4kDJVzN1N",
        "outputId": "3e1c24cd-d698-483d-a796-9b0585d8c508"
      },
      "source": [
        "print(confusion_matrix(yTest, yhat))\n",
        "print(classification_report(yTest, yhat6))"
      ],
      "execution_count": 236,
      "outputs": [
        {
          "output_type": "stream",
          "name": "stdout",
          "text": [
            "[[ 0  0 16]\n",
            " [ 0  0 18]\n",
            " [ 0  0 11]]\n",
            "                 precision    recall  f1-score   support\n",
            "\n",
            "    Iris-setosa       1.00      1.00      1.00        16\n",
            "Iris-versicolor       1.00      1.00      1.00        18\n",
            " Iris-virginica       1.00      1.00      1.00        11\n",
            "\n",
            "       accuracy                           1.00        45\n",
            "      macro avg       1.00      1.00      1.00        45\n",
            "   weighted avg       1.00      1.00      1.00        45\n",
            "\n"
          ]
        }
      ]
    },
    {
      "cell_type": "code",
      "metadata": {
        "id": "abPnVkc0zk7D"
      },
      "source": [
        "vecinos6=range(1,105)\n",
        "puntaje6=[]\n",
        "for j in vecinos5:\n",
        "  RFC3=RandomForestClassifier(n_estimators=j, bootstrap = False, verbose=2, max_features = 'auto')\n",
        "  RFC3.fit(xEntreno, yEntreno)\n",
        "  puntaje6.append(RFC3.score(xTest, yTest))\n",
        "plt.figure()\n",
        "plt.xlabel(\"vecinos\")\n",
        "plt.ylabel(\"presición\")\n",
        "plt.scatter(vecinos6,puntaje6)"
      ],
      "execution_count": null,
      "outputs": []
    },
    {
      "cell_type": "markdown",
      "metadata": {
        "id": "apr6wShL0mJS"
      },
      "source": [
        "Graficas de los arboles"
      ]
    },
    {
      "cell_type": "code",
      "metadata": {
        "colab": {
          "base_uri": "https://localhost:8080/"
        },
        "id": "AWbu9lgj070l",
        "outputId": "9fa64e51-bd06-4210-f205-f3d86599270e"
      },
      "source": [
        "#se importa la función necesaria para exportar el árbol\n",
        "from sklearn.tree import export_graphviz\n",
        "import pydot\n",
        "arbol = RFC.estimators_[2] #se crea el arbol con dos estimadores\n",
        "arbol"
      ],
      "execution_count": 242,
      "outputs": [
        {
          "output_type": "execute_result",
          "data": {
            "text/plain": [
              "DecisionTreeClassifier(ccp_alpha=0.0, class_weight=None, criterion='gini',\n",
              "                       max_depth=None, max_features='auto', max_leaf_nodes=None,\n",
              "                       min_impurity_decrease=0.0, min_impurity_split=None,\n",
              "                       min_samples_leaf=1, min_samples_split=2,\n",
              "                       min_weight_fraction_leaf=0.0, presort='deprecated',\n",
              "                       random_state=62534433, splitter='best')"
            ]
          },
          "metadata": {},
          "execution_count": 242
        }
      ]
    },
    {
      "cell_type": "code",
      "metadata": {
        "id": "Bkp4klPP1MQD"
      },
      "source": [
        "export_graphviz(arbol, out_file = 'arbol.dot',rounded = True, precision = 1)\n",
        "(grafica, ) = pydot.graph_from_dot_file('arbol.dot')\n",
        "grafica.write_png('arbol.png')"
      ],
      "execution_count": 243,
      "outputs": []
    },
    {
      "cell_type": "code",
      "metadata": {
        "colab": {
          "base_uri": "https://localhost:8080/"
        },
        "id": "0mqup0Wi2J3U",
        "outputId": "ea36b3b7-2258-4498-cefc-a2fcbb734bb3"
      },
      "source": [
        "arbol2 = RFC2.estimators_[2] #se crea el arbol con dos estimadores\n",
        "arbol2"
      ],
      "execution_count": 244,
      "outputs": [
        {
          "output_type": "execute_result",
          "data": {
            "text/plain": [
              "DecisionTreeClassifier(ccp_alpha=0.0, class_weight=None, criterion='gini',\n",
              "                       max_depth=None, max_features='log2', max_leaf_nodes=None,\n",
              "                       min_impurity_decrease=0.0, min_impurity_split=None,\n",
              "                       min_samples_leaf=1, min_samples_split=2,\n",
              "                       min_weight_fraction_leaf=0.0, presort='deprecated',\n",
              "                       random_state=1611630286, splitter='best')"
            ]
          },
          "metadata": {},
          "execution_count": 244
        }
      ]
    },
    {
      "cell_type": "code",
      "metadata": {
        "id": "EPja42IU2Vzd"
      },
      "source": [
        "export_graphviz(arbol2, out_file = 'arbol2.dot',rounded = True, precision = 1)\n",
        "(grafica, ) = pydot.graph_from_dot_file('arbol2.dot')\n",
        "grafica.write_png('arbol2.png')"
      ],
      "execution_count": 245,
      "outputs": []
    },
    {
      "cell_type": "code",
      "metadata": {
        "colab": {
          "base_uri": "https://localhost:8080/"
        },
        "id": "517TY9OI2rKx",
        "outputId": "655e0201-d0ba-470c-bf2a-52f57ad7d8e6"
      },
      "source": [
        "arbol3 = RFC3.estimators_[2] #se crea el arbol con dos estimadores\n",
        "arbol3"
      ],
      "execution_count": 246,
      "outputs": [
        {
          "output_type": "execute_result",
          "data": {
            "text/plain": [
              "DecisionTreeClassifier(ccp_alpha=0.0, class_weight=None, criterion='gini',\n",
              "                       max_depth=None, max_features='auto', max_leaf_nodes=None,\n",
              "                       min_impurity_decrease=0.0, min_impurity_split=None,\n",
              "                       min_samples_leaf=1, min_samples_split=2,\n",
              "                       min_weight_fraction_leaf=0.0, presort='deprecated',\n",
              "                       random_state=980027607, splitter='best')"
            ]
          },
          "metadata": {},
          "execution_count": 246
        }
      ]
    },
    {
      "cell_type": "code",
      "metadata": {
        "id": "zKhNbl2728js"
      },
      "source": [
        "export_graphviz(arbol3, out_file = 'arbol3.dot',rounded = True, precision = 1)\n",
        "(grafica, ) = pydot.graph_from_dot_file('arbol3.dot')\n",
        "grafica.write_png('arbol3.png')"
      ],
      "execution_count": 247,
      "outputs": []
    }
  ]
}